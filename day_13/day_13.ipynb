{
 "cells": [
  {
   "cell_type": "code",
   "execution_count": 117,
   "metadata": {},
   "outputs": [],
   "source": [
    "import re"
   ]
  },
  {
   "cell_type": "code",
   "execution_count": 118,
   "metadata": {},
   "outputs": [],
   "source": [
    "class Machine:\n",
    "    def __init__(self,ax,ay,bx,by,x,y):\n",
    "        self.ax = ax\n",
    "        self.ay = ay\n",
    "        self.bx = bx\n",
    "        self.by = by\n",
    "        self.x = x\n",
    "        self.y = y\n",
    "        self.a = None\n",
    "        self.b = None\n",
    "\n",
    "    def calc_values(self):\n",
    "        b = (self.y*self.ax - self.x * self.ay) / (self.ax*self.by - self.ay * self.bx)\n",
    "        a = (self.x - self.bx * b) / self.ax\n",
    "\n",
    "        self.a = a\n",
    "        self.b = b\n",
    "\n",
    "    @property\n",
    "    def values(self):\n",
    "        if self.a == None:\n",
    "            self.calc_values()\n",
    "        return (self.a,self.b)\n",
    "\n",
    "    def __repr__(self):\n",
    "        if self.a == None:\n",
    "            self.calc_values()\n",
    "        return f\"({self.a},{self.b})\""
   ]
  },
  {
   "cell_type": "code",
   "execution_count": 119,
   "metadata": {},
   "outputs": [
    {
     "data": {
      "text/plain": [
       "[(80.0,40.0),\n",
       " (141.4045407636739,135.3952528379773),\n",
       " (38.0,86.0),\n",
       " (244.5016362786349,65.56989247311827)]"
      ]
     },
     "execution_count": 119,
     "metadata": {},
     "output_type": "execute_result"
    }
   ],
   "source": [
    "machines = []\n",
    "\n",
    "with open('example_day13.txt') as f:\n",
    "    lines = f.read().split('\\n\\n')\n",
    "\n",
    "    for m in lines:\n",
    "        A, B, R = m.split('\\n')\n",
    "        Ax, Ay = map(int,re.findall(r'X\\+(\\d+), Y\\+(\\d+)',A)[0])\n",
    "        Bx, By = map(int,re.findall(r'X\\+(\\d+), Y\\+(\\d+)',B)[0])\n",
    "        Rx, Ry = map(int,re.findall(r'X=(\\d+), Y=(\\d+)',R)[0])\n",
    "\n",
    "        machines.append(Machine(Ax,Ay,Bx,By,Rx,Ry))\n",
    "\n",
    "machines"
   ]
  },
  {
   "cell_type": "code",
   "execution_count": 120,
   "metadata": {},
   "outputs": [
    {
     "data": {
      "text/plain": [
       "480.0"
      ]
     },
     "execution_count": 120,
     "metadata": {},
     "output_type": "execute_result"
    }
   ],
   "source": [
    "founded = list(filter(lambda m: m.values[0] == int(m.values[0]), machines))\n",
    "\n",
    "cost = 0\n",
    "\n",
    "for m in founded:\n",
    "    a,b = m.a, m.b\n",
    "    cost += (a*3 + b)\n",
    "\n",
    "cost"
   ]
  },
  {
   "cell_type": "markdown",
   "metadata": {},
   "source": [
    "# Part 1"
   ]
  },
  {
   "cell_type": "code",
   "execution_count": 121,
   "metadata": {},
   "outputs": [],
   "source": [
    "machines = []\n",
    "\n",
    "with open('data_day13.txt') as f:\n",
    "    lines = f.read().split('\\n\\n')\n",
    "\n",
    "    for m in lines:\n",
    "        A, B, R = m.split('\\n')\n",
    "        Ax, Ay = map(int,re.findall(r'X\\+(\\d+), Y\\+(\\d+)',A)[0])\n",
    "        Bx, By = map(int,re.findall(r'X\\+(\\d+), Y\\+(\\d+)',B)[0])\n",
    "        Rx, Ry = map(int,re.findall(r'X=(\\d+), Y=(\\d+)',R)[0])\n",
    "\n",
    "        machines.append(Machine(Ax,Ay,Bx,By,Rx,Ry))"
   ]
  },
  {
   "cell_type": "code",
   "execution_count": 122,
   "metadata": {},
   "outputs": [
    {
     "data": {
      "text/plain": [
       "29522.0"
      ]
     },
     "execution_count": 122,
     "metadata": {},
     "output_type": "execute_result"
    }
   ],
   "source": [
    "founded = list(filter(lambda m: m.values[0] == int(m.values[0]), machines))\n",
    "\n",
    "cost = 0\n",
    "\n",
    "for m in founded:\n",
    "    a,b = m.a, m.b\n",
    "    cost += (a*3 + b)\n",
    "\n",
    "cost"
   ]
  },
  {
   "cell_type": "markdown",
   "metadata": {},
   "source": [
    "# Part 2"
   ]
  },
  {
   "cell_type": "code",
   "execution_count": 123,
   "metadata": {},
   "outputs": [],
   "source": [
    "for m in machines:\n",
    "    m.x = 10000000000000 + m.x\n",
    "    m.y = 10000000000000 + m.y\n",
    "    m.calc_values()"
   ]
  },
  {
   "cell_type": "code",
   "execution_count": 124,
   "metadata": {},
   "outputs": [
    {
     "data": {
      "text/plain": [
       "101214869433312.0"
      ]
     },
     "execution_count": 124,
     "metadata": {},
     "output_type": "execute_result"
    }
   ],
   "source": [
    "founded = list(filter(lambda m: m.values[0] == int(m.values[0]), machines))\n",
    "\n",
    "cost = 0\n",
    "\n",
    "for m in founded:\n",
    "    a,b = m.a, m.b\n",
    "    cost += (a*3 + b)\n",
    "\n",
    "cost"
   ]
  }
 ],
 "metadata": {
  "kernelspec": {
   "display_name": "base",
   "language": "python",
   "name": "python3"
  },
  "language_info": {
   "codemirror_mode": {
    "name": "ipython",
    "version": 3
   },
   "file_extension": ".py",
   "mimetype": "text/x-python",
   "name": "python",
   "nbconvert_exporter": "python",
   "pygments_lexer": "ipython3",
   "version": "3.11.10"
  }
 },
 "nbformat": 4,
 "nbformat_minor": 2
}
