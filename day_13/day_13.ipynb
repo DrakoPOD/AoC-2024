{
 "cells": [
  {
   "cell_type": "code",
   "execution_count": 1,
   "metadata": {},
   "outputs": [],
   "source": [
    "class machine:\n",
    "    def __init__(self,ax,ay,bx,by,x,y):\n",
    "        self.ax = ax\n",
    "        self.ay = ay\n",
    "        self.bx = bx\n",
    "        self.by = by\n",
    "        self.x = x\n",
    "        self.y = y"
   ]
  }
 ],
 "metadata": {
  "kernelspec": {
   "display_name": "base",
   "language": "python",
   "name": "python3"
  },
  "language_info": {
   "codemirror_mode": {
    "name": "ipython",
    "version": 3
   },
   "file_extension": ".py",
   "mimetype": "text/x-python",
   "name": "python",
   "nbconvert_exporter": "python",
   "pygments_lexer": "ipython3",
   "version": "3.12.4"
  }
 },
 "nbformat": 4,
 "nbformat_minor": 2
}
