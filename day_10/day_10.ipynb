{
 "cells": [
  {
   "cell_type": "markdown",
   "metadata": {},
   "source": [
    "# Example"
   ]
  },
  {
   "cell_type": "code",
   "execution_count": 193,
   "metadata": {},
   "outputs": [],
   "source": [
    "class Node:\n",
    "    def __init__(self,x,y, value):\n",
    "        self.x = x\n",
    "        self.y = y\n",
    "        self.value = value\n",
    "        self.visited = False\n",
    "        self.neighbors = []\n",
    "        self.parent = None\n",
    "        self.origin = None\n",
    "        \n",
    "    \n",
    "    def __str__(self):\n",
    "        return str(self.value)\n",
    "    \n",
    "    def __repr__(self):\n",
    "        return str(self.value)"
   ]
  },
  {
   "cell_type": "code",
   "execution_count": 194,
   "metadata": {},
   "outputs": [],
   "source": [
    "def add_neighbors(zone):\n",
    "    for y, row in enumerate(zone):\n",
    "        for x, node in enumerate(row):\n",
    "            for i,j in [(0, 1), (1, 0), (0, -1), (-1, 0)]:\n",
    "                if 0 <= y+i < len(zone) and 0 <= x+j < len(row) and (i,j) != (0,0):\n",
    "                    if (zone[y+i][x+j].value - node.value) == 1:\n",
    "                        node.neighbors.append(zone[y+i][x+j])"
   ]
  },
  {
   "cell_type": "code",
   "execution_count": 195,
   "metadata": {},
   "outputs": [],
   "source": [
    "def find_path(node, start, count, multi = False):\n",
    "    if node.value == 9:\n",
    "        count[0] += 1\n",
    "    \n",
    "    for neighbor in node.neighbors:\n",
    "        if neighbor.origin != start or multi:\n",
    "            neighbor.origin = start\n",
    "            find_path(neighbor, start, count, multi)"
   ]
  },
  {
   "cell_type": "code",
   "execution_count": 196,
   "metadata": {},
   "outputs": [
    {
     "data": {
      "text/plain": [
       "[[8, 9, 0, 1, 0, 1, 2, 3],\n",
       " [7, 8, 1, 2, 1, 8, 7, 4],\n",
       " [8, 7, 4, 3, 0, 9, 6, 5],\n",
       " [9, 6, 5, 4, 9, 8, 7, 4],\n",
       " [4, 5, 6, 7, 8, 9, 0, 3],\n",
       " [3, 2, 0, 1, 9, 0, 1, 2],\n",
       " [0, 1, 3, 2, 9, 8, 0, 1],\n",
       " [1, 0, 4, 5, 6, 7, 3, 2]]"
      ]
     },
     "execution_count": 196,
     "metadata": {},
     "output_type": "execute_result"
    }
   ],
   "source": [
    "zone = []\n",
    "\n",
    "with open(\"./example_day10.txt\") as f:\n",
    "    for y, line in enumerate(f):\n",
    "        zone.append([])\n",
    "        for x, value in enumerate(line.strip()):\n",
    "            zone[y].append(Node(x,y,int(value)))\n",
    "\n",
    "zone"
   ]
  },
  {
   "cell_type": "code",
   "execution_count": 197,
   "metadata": {},
   "outputs": [
    {
     "name": "stdout",
     "output_type": "stream",
     "text": [
      "8 [9]\n",
      "9 []\n",
      "0 [1, 1]\n",
      "1 [2]\n",
      "0 [1, 1, 1]\n",
      "1 [2]\n",
      "2 [3]\n",
      "3 [4]\n",
      "7 [8, 8, 8]\n",
      "8 [9]\n",
      "1 [2]\n",
      "2 [3]\n",
      "1 [2]\n",
      "8 [9]\n",
      "7 [8]\n",
      "4 [5]\n",
      "8 [9]\n",
      "7 [8, 8]\n",
      "4 [5]\n",
      "3 [4, 4]\n",
      "0 [1]\n",
      "9 []\n",
      "6 [7, 7]\n",
      "5 [6]\n",
      "9 []\n",
      "6 [7]\n",
      "5 [6, 6]\n",
      "4 [5]\n",
      "9 []\n",
      "8 [9, 9, 9]\n",
      "7 [8]\n",
      "4 [5]\n",
      "4 [5]\n",
      "5 [6, 6]\n",
      "6 [7]\n",
      "7 [8]\n",
      "8 [9, 9, 9]\n",
      "9 []\n",
      "0 [1]\n",
      "3 [4]\n",
      "3 [4]\n",
      "2 [3]\n",
      "0 [1]\n",
      "1 [2]\n",
      "9 []\n",
      "0 [1]\n",
      "1 [2]\n",
      "2 [3]\n",
      "0 [1, 1]\n",
      "1 [2]\n",
      "3 [4]\n",
      "2 [3]\n",
      "9 []\n",
      "8 [9]\n",
      "0 [1, 1]\n",
      "1 [2, 2]\n",
      "1 []\n",
      "0 [1, 1]\n",
      "4 [5]\n",
      "5 [6]\n",
      "6 [7]\n",
      "7 [8]\n",
      "3 []\n",
      "2 [3]\n"
     ]
    }
   ],
   "source": [
    "add_neighbors(zone)\n",
    "for row in zone:\n",
    "    for node in row:\n",
    "        print(node, node.neighbors)"
   ]
  },
  {
   "cell_type": "code",
   "execution_count": 198,
   "metadata": {},
   "outputs": [
    {
     "data": {
      "text/plain": [
       "36"
      ]
     },
     "execution_count": 198,
     "metadata": {},
     "output_type": "execute_result"
    }
   ],
   "source": [
    "count = [0]\n",
    "for row in zone:\n",
    "    for node in row:\n",
    "        if node.value == 0:\n",
    "            find_path(node, node, count)\n",
    "\n",
    "count[0]"
   ]
  },
  {
   "cell_type": "code",
   "execution_count": 199,
   "metadata": {},
   "outputs": [
    {
     "data": {
      "text/plain": [
       "81"
      ]
     },
     "execution_count": 199,
     "metadata": {},
     "output_type": "execute_result"
    }
   ],
   "source": [
    "count = [0]\n",
    "for row in zone:\n",
    "    for node in row:\n",
    "        if node.value == 0:\n",
    "            find_path(node, node, count, True)\n",
    "\n",
    "count[0]"
   ]
  },
  {
   "cell_type": "markdown",
   "metadata": {},
   "source": [
    "# Part 1"
   ]
  },
  {
   "cell_type": "code",
   "execution_count": 200,
   "metadata": {},
   "outputs": [],
   "source": [
    "zone = []\n",
    "\n",
    "with open(\"./data_day10.txt\") as f:\n",
    "    for y, line in enumerate(f):\n",
    "        zone.append([])\n",
    "        for x, value in enumerate(line.strip()):\n",
    "            zone[y].append(Node(x,y,int(value)))"
   ]
  },
  {
   "cell_type": "code",
   "execution_count": 201,
   "metadata": {},
   "outputs": [
    {
     "data": {
      "text/plain": [
       "566"
      ]
     },
     "execution_count": 201,
     "metadata": {},
     "output_type": "execute_result"
    }
   ],
   "source": [
    "add_neighbors(zone)\n",
    "count = [0]\n",
    "for row in zone:\n",
    "    for node in row:\n",
    "        if node.value == 0:\n",
    "            find_path(node, node, count)\n",
    "\n",
    "count[0]"
   ]
  },
  {
   "cell_type": "code",
   "execution_count": 202,
   "metadata": {},
   "outputs": [
    {
     "data": {
      "text/plain": [
       "1324"
      ]
     },
     "execution_count": 202,
     "metadata": {},
     "output_type": "execute_result"
    }
   ],
   "source": [
    "count = [0]\n",
    "for row in zone:\n",
    "    for node in row:\n",
    "        if node.value == 0:\n",
    "            find_path(node, node, count, True)\n",
    "\n",
    "count[0]"
   ]
  }
 ],
 "metadata": {
  "kernelspec": {
   "display_name": "base",
   "language": "python",
   "name": "python3"
  },
  "language_info": {
   "codemirror_mode": {
    "name": "ipython",
    "version": 3
   },
   "file_extension": ".py",
   "mimetype": "text/x-python",
   "name": "python",
   "nbconvert_exporter": "python",
   "pygments_lexer": "ipython3",
   "version": "3.11.10"
  }
 },
 "nbformat": 4,
 "nbformat_minor": 2
}
