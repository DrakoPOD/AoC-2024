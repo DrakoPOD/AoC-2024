{
 "cells": [
  {
   "cell_type": "markdown",
   "metadata": {},
   "source": [
    "# Example"
   ]
  },
  {
   "cell_type": "markdown",
   "metadata": {},
   "source": [
    "## Part 1: Example"
   ]
  },
  {
   "cell_type": "code",
   "execution_count": 160,
   "metadata": {},
   "outputs": [
    {
     "data": {
      "text/plain": [
       "{47: [53, 13, 61, 29],\n",
       " 53: [29, 13],\n",
       " 97: [13, 61, 47, 29, 53, 75],\n",
       " 13: [],\n",
       " 61: [13, 53, 29],\n",
       " 75: [29, 53, 47, 61, 13],\n",
       " 29: [13]}"
      ]
     },
     "execution_count": 160,
     "metadata": {},
     "output_type": "execute_result"
    }
   ],
   "source": [
    "rules = {}\n",
    "prev_rules = {}\n",
    "pages = []\n",
    "\n",
    "with open('./example_day05.txt') as f:\n",
    "    r,p = f.read().split('\\n\\n')\n",
    "    for line in r.split('\\n'):\n",
    "        num, order = list(map(int,line.split('|')))\n",
    "\n",
    "        if num not in rules:\n",
    "            rules[num] = []\n",
    "        if order not in rules:\n",
    "            rules[order] = []\n",
    "\n",
    "        rules[num].append(order)\n",
    "\n",
    "\n",
    "    for line in p.split('\\n'):\n",
    "        pages.append(list(map(int,line.split(','))))\n",
    "\n",
    "rules"
   ]
  },
  {
   "cell_type": "code",
   "execution_count": 161,
   "metadata": {},
   "outputs": [
    {
     "name": "stdout",
     "output_type": "stream",
     "text": [
      "143\n"
     ]
    }
   ],
   "source": [
    "corrects = []\n",
    "incorrect = []\n",
    "\n",
    "for page in pages:\n",
    "    correct = True\n",
    "    init = -1\n",
    "    for i in range(len(page)-1):\n",
    "        num = page[i]\n",
    "        \n",
    "        for j in range(i+1, len(page)):\n",
    "            next_num = page[j]\n",
    "\n",
    "            \n",
    "            if next_num in rules[num]:\n",
    "                continue\n",
    "            else:\n",
    "                correct = False\n",
    "                break\n",
    "    if correct:\n",
    "        corrects.append(page)\n",
    "    else:\n",
    "        incorrect.append(page)\n",
    "\n",
    "sum = 0\n",
    "\n",
    "for c in corrects:\n",
    "    i = int(len(c)/2)\n",
    "    sum += c[i]\n",
    "\n",
    "print(sum)"
   ]
  },
  {
   "cell_type": "markdown",
   "metadata": {},
   "source": [
    "## Part 2: Example"
   ]
  },
  {
   "cell_type": "code",
   "execution_count": 162,
   "metadata": {},
   "outputs": [
    {
     "data": {
      "text/plain": [
       "123"
      ]
     },
     "execution_count": 162,
     "metadata": {},
     "output_type": "execute_result"
    }
   ],
   "source": [
    "for inc in incorrect:\n",
    "    n = len(inc)\n",
    "    for _ in range(n):\n",
    "        for i in range(n-1):\n",
    "            num_1 = inc[i]\n",
    "            for j in range(i+1,n):\n",
    "                num_2 = inc[j]\n",
    "                if (num_2 in rules[num_1]) == False:\n",
    "                    temp = num_2\n",
    "                    inc.pop(j)\n",
    "                    inc.insert(i,temp)\n",
    "            \n",
    "corrects = []\n",
    "\n",
    "for page in incorrect:\n",
    "    correct = True\n",
    "    init = -1\n",
    "    for i in range(len(page)-1):\n",
    "        num = page[i]\n",
    "        \n",
    "        for j in range(i+1, len(page)):\n",
    "            next_num = page[j]\n",
    "\n",
    "            if next_num in rules[num]:\n",
    "                continue\n",
    "            else:\n",
    "                correct = False\n",
    "                break\n",
    "    if correct:\n",
    "        corrects.append(page)\n",
    "\n",
    "sum = 0\n",
    "\n",
    "for c in corrects:\n",
    "    i = int(len(c)/2)\n",
    "    sum += c[i]\n",
    "\n",
    "sum"
   ]
  },
  {
   "cell_type": "markdown",
   "metadata": {},
   "source": [
    "# Part 1"
   ]
  },
  {
   "cell_type": "code",
   "execution_count": 163,
   "metadata": {},
   "outputs": [
    {
     "data": {
      "text/plain": [
       "[13,\n",
       " 14,\n",
       " 11,\n",
       " 15,\n",
       " 17,\n",
       " 25,\n",
       " 19,\n",
       " 21,\n",
       " 26,\n",
       " 16,\n",
       " 28,\n",
       " 23,\n",
       " 24,\n",
       " 29,\n",
       " 34,\n",
       " 27,\n",
       " 37,\n",
       " 38,\n",
       " 33,\n",
       " 35,\n",
       " 42,\n",
       " 32,\n",
       " 41,\n",
       " 39,\n",
       " 55,\n",
       " 44,\n",
       " 56,\n",
       " 46,\n",
       " 62,\n",
       " 57,\n",
       " 54,\n",
       " 73,\n",
       " 64,\n",
       " 61,\n",
       " 65,\n",
       " 58,\n",
       " 67,\n",
       " 75,\n",
       " 76,\n",
       " 74,\n",
       " 79,\n",
       " 84,\n",
       " 87,\n",
       " 88,\n",
       " 91,\n",
       " 94,\n",
       " 98,\n",
       " 95,\n",
       " 97]"
      ]
     },
     "execution_count": 163,
     "metadata": {},
     "output_type": "execute_result"
    }
   ],
   "source": [
    "rules = {}\n",
    "pages = []\n",
    "\n",
    "with open('./data_day05.txt') as f:\n",
    "    r,p = f.read().split('\\n\\n')\n",
    "    for line in r.split('\\n'):\n",
    "        num, order = list(map(int,line.split('|')))\n",
    "\n",
    "        if num not in rules:\n",
    "            rules[num] = []\n",
    "\n",
    "        rules[num].append(order)\n",
    "\n",
    "    for line in p.split('\\n'):\n",
    "        pages.append(list(map(int,line.split(','))))\n",
    "\n",
    "nums = list(set(list(rules.keys()) + list(prev_rules.keys())))\n",
    "n = len(nums)\n",
    "\n",
    "for i in range(n):\n",
    "    for j in range(n-i-1):\n",
    "        num_1 = nums[j]\n",
    "        num_2 = nums[j+1]\n",
    "        \n",
    "        if num_2 in list(rules.keys()):\n",
    "            if num_1 in rules[num_2]:\n",
    "                nums[j], nums[j+1] = nums[j+1], nums[j]\n",
    "\n",
    "nums"
   ]
  },
  {
   "cell_type": "code",
   "execution_count": 164,
   "metadata": {},
   "outputs": [
    {
     "name": "stdout",
     "output_type": "stream",
     "text": [
      "5948\n"
     ]
    }
   ],
   "source": [
    "corrects = []\n",
    "incorrect = []\n",
    "\n",
    "for page in pages:\n",
    "    correct = True\n",
    "    init = -1\n",
    "    for i in range(len(page)-1):\n",
    "        num = page[i]\n",
    "        \n",
    "        for j in range(i+1, len(page)):\n",
    "            next_num = page[j]\n",
    "\n",
    "            if next_num in rules[num]:\n",
    "                continue\n",
    "            else:\n",
    "                correct = False\n",
    "                break\n",
    "    if correct:\n",
    "        corrects.append(page)\n",
    "    else:\n",
    "        incorrect.append(page)\n",
    "\n",
    "sum = 0\n",
    "\n",
    "for c in corrects:\n",
    "    i = int(len(c)/2)\n",
    "    sum += c[i]\n",
    "\n",
    "print(sum)"
   ]
  },
  {
   "cell_type": "code",
   "execution_count": 165,
   "metadata": {},
   "outputs": [
    {
     "data": {
      "text/plain": [
       "3062"
      ]
     },
     "execution_count": 165,
     "metadata": {},
     "output_type": "execute_result"
    }
   ],
   "source": [
    "for inc in incorrect:\n",
    "    n = len(inc)\n",
    "    for _ in range(n):\n",
    "        for i in range(n-1):\n",
    "            num_1 = inc[i]\n",
    "            for j in range(i+1,n):\n",
    "                num_2 = inc[j]\n",
    "                if (num_2 in rules[num_1]) == False:\n",
    "                    temp = num_2\n",
    "                    inc.pop(j)\n",
    "                    inc.insert(i,temp)\n",
    "            \n",
    "corrects = []\n",
    "\n",
    "for page in incorrect:\n",
    "    correct = True\n",
    "    init = -1\n",
    "    for i in range(len(page)-1):\n",
    "        num = page[i]\n",
    "        \n",
    "        for j in range(i+1, len(page)):\n",
    "            next_num = page[j]\n",
    "\n",
    "            if next_num in rules[num]:\n",
    "                continue\n",
    "            else:\n",
    "                correct = False\n",
    "                break\n",
    "    if correct:\n",
    "        corrects.append(page)\n",
    "\n",
    "sum = 0\n",
    "\n",
    "for c in corrects:\n",
    "    i = int(len(c)/2)\n",
    "    sum += c[i]\n",
    "\n",
    "sum"
   ]
  }
 ],
 "metadata": {
  "kernelspec": {
   "display_name": "base",
   "language": "python",
   "name": "python3"
  },
  "language_info": {
   "codemirror_mode": {
    "name": "ipython",
    "version": 3
   },
   "file_extension": ".py",
   "mimetype": "text/x-python",
   "name": "python",
   "nbconvert_exporter": "python",
   "pygments_lexer": "ipython3",
   "version": "3.12.4"
  }
 },
 "nbformat": 4,
 "nbformat_minor": 2
}
