{
 "cells": [
  {
   "cell_type": "markdown",
   "metadata": {},
   "source": [
    "# Example"
   ]
  },
  {
   "cell_type": "markdown",
   "metadata": {},
   "source": [
    "## Part 1: Example"
   ]
  },
  {
   "cell_type": "code",
   "execution_count": 16,
   "metadata": {},
   "outputs": [
    {
     "data": {
      "text/plain": [
       "[97, 75, 47, 61, 53, 29]"
      ]
     },
     "execution_count": 16,
     "metadata": {},
     "output_type": "execute_result"
    }
   ],
   "source": [
    "next_rules = {}\n",
    "prev_rules = {}\n",
    "pages = []\n",
    "\n",
    "with open('./example_day05.txt') as f:\n",
    "    r,p = f.read().split('\\n\\n')\n",
    "    for line in r.split('\\n'):\n",
    "        num, order = list(map(int,line.split('|')))\n",
    "\n",
    "        if num not in next_rules:\n",
    "            next_rules[num] = []\n",
    "\n",
    "        next_rules[num].append(order)\n",
    "\n",
    "        if order not in prev_rules:\n",
    "            prev_rules[order] = []\n",
    "\n",
    "        prev_rules[order].append(num)\n",
    "\n",
    "    for line in p.split('\\n'):\n",
    "        pages.append(list(map(int,line.split(','))))\n",
    "\n",
    "nums = list(next_rules.keys())\n",
    "n = len(nums)\n",
    "\n",
    "for i in range(n):\n",
    "    for j in range(n-i-1):\n",
    "        num_1 = nums[j]\n",
    "        num_2 = nums[j+1]\n",
    "\n",
    "        if num_1 in next_rules[num_2]:\n",
    "            nums[j], nums[j+1] = nums[j+1], nums[j]\n",
    "\n",
    "nums"
   ]
  },
  {
   "cell_type": "code",
   "execution_count": null,
   "metadata": {},
   "outputs": [],
   "source": [
    "corrects = []\n",
    "\n",
    "for page in pages:\n",
    "    correct = True\n",
    "    for i in (len(page) - 1):\n",
    "        num = page[i]\n",
    "        \n",
    "        if num in prev_rules and num in next_rules:\n",
    "            next_rule = next_rules[num]\n",
    "            prev_rule = prev_rules[num]\n",
    "        else:\n",
    "            correct = False\n",
    "        \n",
    "        for j in len(page):\n",
    "            if j == i:\n",
    "                continue\n",
    "                \n",
    "            break\n"
   ]
  }
 ],
 "metadata": {
  "kernelspec": {
   "display_name": "base",
   "language": "python",
   "name": "python3"
  },
  "language_info": {
   "codemirror_mode": {
    "name": "ipython",
    "version": 3
   },
   "file_extension": ".py",
   "mimetype": "text/x-python",
   "name": "python",
   "nbconvert_exporter": "python",
   "pygments_lexer": "ipython3",
   "version": "3.11.10"
  }
 },
 "nbformat": 4,
 "nbformat_minor": 2
}
