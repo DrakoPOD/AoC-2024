{
 "cells": [
  {
   "cell_type": "code",
   "execution_count": 356,
   "metadata": {},
   "outputs": [],
   "source": [
    "directions = {\n",
    "    \"^\": (0, -1),\n",
    "    \"v\": (0, 1),\n",
    "    \"<\": (-1, 0),\n",
    "    \">\": (1, 0)\n",
    "}"
   ]
  },
  {
   "cell_type": "code",
   "execution_count": 357,
   "metadata": {},
   "outputs": [],
   "source": [
    "class Box:\n",
    "    def __init__(self,x,y, zone):\n",
    "        self.x = x\n",
    "        self.y = y\n",
    "        self.zone = zone\n",
    "\n",
    "    @property\n",
    "    def position(self):\n",
    "        return (self.x,self.y)\n",
    "    \n",
    "    @property\n",
    "    def gps(self):\n",
    "        return 100*self.y + self.x\n",
    "    \n",
    "    def move(self, x, y):\n",
    "        next_pos = self.zone[self.y + y][self.x + x]\n",
    "        if next_pos == \".\":\n",
    "            self.x += x\n",
    "            self.y += y\n",
    "            self.zone[self.y][self.x] = self\n",
    "            return True\n",
    "        if next_pos == \"#\":\n",
    "            return False\n",
    "        if isinstance(next_pos, Box):\n",
    "            if not next_pos.move(x , y):\n",
    "                return False\n",
    "            self.x += x\n",
    "            self.y += y\n",
    "            self.zone[self.y][self.x] = self\n",
    "            return True\n",
    "        \n",
    "    def __repr__(self):\n",
    "        return \" O \"\n"
   ]
  },
  {
   "cell_type": "code",
   "execution_count": 358,
   "metadata": {},
   "outputs": [],
   "source": [
    "class Box2:\n",
    "    def __init__(self,x,y, zone):\n",
    "        self.x1 = x\n",
    "        self.x2 = x + 1\n",
    "        self.y = y\n",
    "        self.zone = zone\n",
    "\n",
    "    @property\n",
    "    def position(self):\n",
    "        return (self.x1,self.y)\n",
    "    \n",
    "    @property\n",
    "    def gps(self):\n",
    "        return 100*self.y + self.x1\n",
    "    \n",
    "    def check_move(self, x, y):\n",
    "        next_pos1 = self.zone[self.y + y][self.x1 + (x*2)]\n",
    "\n",
    "        if y != 0:\n",
    "            next_pos2 = self.zone[self.y + y][self.x2]\n",
    "            if next_pos1 == \".\" and next_pos2 == \".\":\n",
    "                return True\n",
    "            if next_pos1 == \"#\" or next_pos2 == \"#\":\n",
    "                return False\n",
    "            \n",
    "            side1 = True\n",
    "            side2 = True\n",
    "\n",
    "            if isinstance(next_pos1, Box2):\n",
    "                side1 = next_pos1.check_move(0, y)\n",
    "            if isinstance(next_pos2, Box2):\n",
    "                side2 = next_pos2.check_move(0, y)\n",
    "            return side1 and side2\n",
    "        else:\n",
    "            if next_pos1 == \".\":\n",
    "                return True\n",
    "            if next_pos1 == \"#\":\n",
    "                return False\n",
    "            if isinstance(next_pos1, Box2):\n",
    "                return next_pos1.check_move(x, 0)\n",
    "            return True\n",
    "            \n",
    "\n",
    "    def move(self, x, y):\n",
    "        next_pos1 = self.zone[self.y + y][self.x1 + (x*2)]\n",
    "        if not self.check_move(x, y):\n",
    "            return False\n",
    "        \n",
    "        if y != 0:\n",
    "            next_pos2 = self.zone[self.y + y][self.x2]\n",
    "            if isinstance(next_pos1, Box2):\n",
    "                next_pos1.move(0, y)\n",
    "            if isinstance(next_pos2, Box2):\n",
    "                next_pos2.move(0, y)\n",
    "            self.zone[self.y][self.x1] = \".\"\n",
    "            self.zone[self.y][self.x2] = \".\"\n",
    "            self.y += y\n",
    "            self.zone[self.y][self.x1] = self\n",
    "            self.zone[self.y][self.x2] = self\n",
    "            return True\n",
    "        else:\n",
    "            if isinstance(next_pos1, Box2):\n",
    "                next_pos1.move(x, 0)\n",
    "            self.zone[self.y][self.x1] = \".\"\n",
    "            self.zone[self.y][self.x2] = \".\"\n",
    "            self.x1 += x\n",
    "            self.x2 += x\n",
    "            self.zone[self.y][self.x1] = self\n",
    "            self.zone[self.y][self.x2] = self\n",
    "            return True\n",
    "                \n",
    "    def __repr__(self):\n",
    "        return \"O\""
   ]
  },
  {
   "cell_type": "code",
   "execution_count": 359,
   "metadata": {},
   "outputs": [],
   "source": [
    "def open_file(file):\n",
    "    zone = []\n",
    "    boxes = []\n",
    "    initial_pos = None\n",
    "    moves = []\n",
    "    with open(file) as f:\n",
    "        z, m = f.read().split('\\n\\n')\n",
    "        \n",
    "        for y, line in enumerate(z.split('\\n')):\n",
    "            zone.append([])\n",
    "            for x, c in enumerate(list(line)):\n",
    "                if c == \"#\":\n",
    "                    zone[y].append(\"#\")\n",
    "                elif c == \".\":\n",
    "                    zone[y].append(\".\")\n",
    "                elif c == \"O\":\n",
    "                    box = Box(x, y, zone)\n",
    "                    zone[y].append(box)\n",
    "                    boxes.append(box)\n",
    "                elif c == \"@\":\n",
    "                    initial_pos = (x, y)\n",
    "                    zone[y].append(\".\")\n",
    "\n",
    "        m = map(list,m.split('\\n'))\n",
    "        moves = [element for sublist in m for element in sublist]\n",
    "        moves = list(map(lambda x: directions[x], moves))\n",
    "\n",
    "    return zone, boxes, initial_pos, moves"
   ]
  },
  {
   "cell_type": "code",
   "execution_count": 360,
   "metadata": {},
   "outputs": [],
   "source": [
    "def open_file2(file):\n",
    "    zone = []\n",
    "    boxes = []\n",
    "    initial_pos = None\n",
    "    moves = []\n",
    "    with open(file) as f:\n",
    "        z, m = f.read().split('\\n\\n')\n",
    "        \n",
    "        for y, line in enumerate(z.split('\\n')):\n",
    "            zone.append([])\n",
    "            for x, c in enumerate(list(line)):\n",
    "                if c == \"#\":\n",
    "                    zone[y].extend([\"#\", \"#\"])\n",
    "                elif c == \".\":\n",
    "                    zone[y].extend([\".\", \".\"])\n",
    "                elif c == \"O\":\n",
    "                    box2 = Box2(x, y, zone)\n",
    "                    zone[y].extend([box2, box2])\n",
    "                    boxes.append(box2)\n",
    "                elif c == \"@\":\n",
    "                    initial_pos = (x*2, y)\n",
    "                    zone[y].extend([\"@\", \".\"])\n",
    "\n",
    "        m = map(list,m.split('\\n'))\n",
    "        moves = [element for sublist in m for element in sublist]\n",
    "        moves = list(map(lambda x: directions[x], moves))\n",
    "    \n",
    "    return zone, boxes, initial_pos, moves"
   ]
  },
  {
   "cell_type": "markdown",
   "metadata": {},
   "source": [
    "# Example"
   ]
  },
  {
   "cell_type": "code",
   "execution_count": 361,
   "metadata": {},
   "outputs": [
    {
     "data": {
      "text/plain": [
       "[['#', '#', '#', '#', '#', '#', '#', '#', '#', '#'],\n",
       " ['#', '.', '.',  O , '.', '.',  O , '.',  O , '#'],\n",
       " ['#', '.', '.', '.', '.', '.', '.',  O , '.', '#'],\n",
       " ['#', '.',  O ,  O , '.', '.',  O , '.',  O , '#'],\n",
       " ['#', '.', '.',  O , '.', '.', '.',  O , '.', '#'],\n",
       " ['#',  O , '#', '.', '.',  O , '.', '.', '.', '#'],\n",
       " ['#',  O , '.', '.',  O , '.', '.',  O , '.', '#'],\n",
       " ['#', '.',  O ,  O , '.',  O , '.',  O ,  O , '#'],\n",
       " ['#', '.', '.', '.', '.',  O , '.', '.', '.', '#'],\n",
       " ['#', '#', '#', '#', '#', '#', '#', '#', '#', '#']]"
      ]
     },
     "execution_count": 361,
     "metadata": {},
     "output_type": "execute_result"
    }
   ],
   "source": [
    "initial_pos = None\n",
    "zone = []\n",
    "moves = []\n",
    "boxes = []\n",
    "\n",
    "zone, boxes, initial_pos, moves = open_file(\"example_day15.txt\")\n",
    "\n",
    "zone"
   ]
  },
  {
   "cell_type": "code",
   "execution_count": 362,
   "metadata": {},
   "outputs": [
    {
     "data": {
      "text/plain": [
       "[['#', '#', '#', '#', '#', '#', '#', '#', '#', '#'],\n",
       " ['#', '.',  O , '.',  O , '.',  O ,  O ,  O , '#'],\n",
       " ['#', '.', '.', '.', '.', '.', '.', '.', '.', '#'],\n",
       " ['#',  O ,  O , '.', '.', '.', '.', '.', '.', '#'],\n",
       " ['#',  O ,  O , '.', '.', '.', '.', '.', '.', '#'],\n",
       " ['#',  O , '#', '.', '.', '.', '.', '.',  O , '#'],\n",
       " ['#',  O , '.', '.', '.', '.', '.',  O ,  O , '#'],\n",
       " ['#',  O , '.', '.', '.', '.', '.',  O ,  O , '#'],\n",
       " ['#',  O ,  O , '.', '.', '.', '.',  O ,  O , '#'],\n",
       " ['#', '#', '#', '#', '#', '#', '#', '#', '#', '#']]"
      ]
     },
     "execution_count": 362,
     "metadata": {},
     "output_type": "execute_result"
    }
   ],
   "source": [
    "current = [initial_pos[0], initial_pos[1]]\n",
    "\n",
    "for move in moves:\n",
    "    x,y = move\n",
    "    next_pos = zone[current[1] + y][current[0] + x]\n",
    "\n",
    "    if next_pos == \".\": \n",
    "        current[0] += x\n",
    "        current[1] += y\n",
    "    elif next_pos == \"#\":\n",
    "        continue\n",
    "    elif isinstance(next_pos, Box):\n",
    "        if not next_pos.move(x , y):\n",
    "            continue\n",
    "        current[0] += x\n",
    "        current[1] += y\n",
    "        zone[current[1]][current[0]] = \".\"\n",
    "\n",
    "zone"
   ]
  },
  {
   "cell_type": "code",
   "execution_count": 363,
   "metadata": {},
   "outputs": [
    {
     "data": {
      "text/plain": [
       "10092"
      ]
     },
     "execution_count": 363,
     "metadata": {},
     "output_type": "execute_result"
    }
   ],
   "source": [
    "gps = sum([box.gps for box in boxes])\n",
    "gps"
   ]
  },
  {
   "cell_type": "code",
   "execution_count": 364,
   "metadata": {},
   "outputs": [
    {
     "name": "stdout",
     "output_type": "stream",
     "text": [
      "####################\n",
      "##....OO....OO..OO##\n",
      "##............OO..##\n",
      "##..OOOO....OO..OO##\n",
      "##....OO@.....OO..##\n",
      "##OO##....OO......##\n",
      "##OO....OO....OO..##\n",
      "##..OOOO..OO..OOOO##\n",
      "##........OO......##\n",
      "####################\n"
     ]
    }
   ],
   "source": [
    "initial_pos = None\n",
    "zone = []\n",
    "moves = []\n",
    "boxes = []\n",
    "\n",
    "zone, boxes, initial_pos, moves = open_file2(\"example_day15.txt\")\n",
    "for line in zone:\n",
    "    print(\"\".join(map(str,line)))"
   ]
  },
  {
   "cell_type": "code",
   "execution_count": 365,
   "metadata": {},
   "outputs": [
    {
     "ename": "RecursionError",
     "evalue": "maximum recursion depth exceeded",
     "output_type": "error",
     "traceback": [
      "\u001b[1;31m---------------------------------------------------------------------------\u001b[0m",
      "\u001b[1;31mRecursionError\u001b[0m                            Traceback (most recent call last)",
      "Cell \u001b[1;32mIn[365], line 15\u001b[0m\n\u001b[0;32m     13\u001b[0m     \u001b[38;5;28;01mcontinue\u001b[39;00m\n\u001b[0;32m     14\u001b[0m \u001b[38;5;28;01melif\u001b[39;00m \u001b[38;5;28misinstance\u001b[39m(next_pos, Box2):\n\u001b[1;32m---> 15\u001b[0m     \u001b[38;5;28;01mif\u001b[39;00m \u001b[38;5;129;01mnot\u001b[39;00m next_pos\u001b[38;5;241m.\u001b[39mmove(x , y):\n\u001b[0;32m     16\u001b[0m         \u001b[38;5;28;01mcontinue\u001b[39;00m\n\u001b[0;32m     17\u001b[0m     zone[current[\u001b[38;5;241m1\u001b[39m]][current[\u001b[38;5;241m0\u001b[39m]] \u001b[38;5;241m=\u001b[39m \u001b[38;5;124m\"\u001b[39m\u001b[38;5;124m.\u001b[39m\u001b[38;5;124m\"\u001b[39m\n",
      "Cell \u001b[1;32mIn[358], line 46\u001b[0m, in \u001b[0;36mBox2.move\u001b[1;34m(self, x, y)\u001b[0m\n\u001b[0;32m     44\u001b[0m \u001b[38;5;28;01mdef\u001b[39;00m \u001b[38;5;21mmove\u001b[39m(\u001b[38;5;28mself\u001b[39m, x, y):\n\u001b[0;32m     45\u001b[0m     next_pos1 \u001b[38;5;241m=\u001b[39m \u001b[38;5;28mself\u001b[39m\u001b[38;5;241m.\u001b[39mzone[\u001b[38;5;28mself\u001b[39m\u001b[38;5;241m.\u001b[39my \u001b[38;5;241m+\u001b[39m y][\u001b[38;5;28mself\u001b[39m\u001b[38;5;241m.\u001b[39mx1 \u001b[38;5;241m+\u001b[39m (x\u001b[38;5;241m*\u001b[39m\u001b[38;5;241m2\u001b[39m)]\n\u001b[1;32m---> 46\u001b[0m     \u001b[38;5;28;01mif\u001b[39;00m \u001b[38;5;129;01mnot\u001b[39;00m \u001b[38;5;28mself\u001b[39m\u001b[38;5;241m.\u001b[39mcheck_move(x, y):\n\u001b[0;32m     47\u001b[0m         \u001b[38;5;28;01mreturn\u001b[39;00m \u001b[38;5;28;01mFalse\u001b[39;00m\n\u001b[0;32m     49\u001b[0m     \u001b[38;5;28;01mif\u001b[39;00m y \u001b[38;5;241m!=\u001b[39m \u001b[38;5;241m0\u001b[39m:\n",
      "Cell \u001b[1;32mIn[358], line 40\u001b[0m, in \u001b[0;36mBox2.check_move\u001b[1;34m(self, x, y)\u001b[0m\n\u001b[0;32m     38\u001b[0m     \u001b[38;5;28;01mreturn\u001b[39;00m \u001b[38;5;28;01mFalse\u001b[39;00m\n\u001b[0;32m     39\u001b[0m \u001b[38;5;28;01mif\u001b[39;00m \u001b[38;5;28misinstance\u001b[39m(next_pos1, Box2):\n\u001b[1;32m---> 40\u001b[0m     \u001b[38;5;28;01mreturn\u001b[39;00m next_pos1\u001b[38;5;241m.\u001b[39mcheck_move(x, \u001b[38;5;241m0\u001b[39m)\n\u001b[0;32m     41\u001b[0m \u001b[38;5;28;01mreturn\u001b[39;00m \u001b[38;5;28;01mTrue\u001b[39;00m\n",
      "Cell \u001b[1;32mIn[358], line 40\u001b[0m, in \u001b[0;36mBox2.check_move\u001b[1;34m(self, x, y)\u001b[0m\n\u001b[0;32m     38\u001b[0m     \u001b[38;5;28;01mreturn\u001b[39;00m \u001b[38;5;28;01mFalse\u001b[39;00m\n\u001b[0;32m     39\u001b[0m \u001b[38;5;28;01mif\u001b[39;00m \u001b[38;5;28misinstance\u001b[39m(next_pos1, Box2):\n\u001b[1;32m---> 40\u001b[0m     \u001b[38;5;28;01mreturn\u001b[39;00m next_pos1\u001b[38;5;241m.\u001b[39mcheck_move(x, \u001b[38;5;241m0\u001b[39m)\n\u001b[0;32m     41\u001b[0m \u001b[38;5;28;01mreturn\u001b[39;00m \u001b[38;5;28;01mTrue\u001b[39;00m\n",
      "    \u001b[1;31m[... skipping similar frames: Box2.check_move at line 40 (2973 times)]\u001b[0m\n",
      "Cell \u001b[1;32mIn[358], line 40\u001b[0m, in \u001b[0;36mBox2.check_move\u001b[1;34m(self, x, y)\u001b[0m\n\u001b[0;32m     38\u001b[0m     \u001b[38;5;28;01mreturn\u001b[39;00m \u001b[38;5;28;01mFalse\u001b[39;00m\n\u001b[0;32m     39\u001b[0m \u001b[38;5;28;01mif\u001b[39;00m \u001b[38;5;28misinstance\u001b[39m(next_pos1, Box2):\n\u001b[1;32m---> 40\u001b[0m     \u001b[38;5;28;01mreturn\u001b[39;00m next_pos1\u001b[38;5;241m.\u001b[39mcheck_move(x, \u001b[38;5;241m0\u001b[39m)\n\u001b[0;32m     41\u001b[0m \u001b[38;5;28;01mreturn\u001b[39;00m \u001b[38;5;28;01mTrue\u001b[39;00m\n",
      "\u001b[1;31mRecursionError\u001b[0m: maximum recursion depth exceeded"
     ]
    }
   ],
   "source": [
    "current = [initial_pos[0], initial_pos[1]]\n",
    "\n",
    "for move in moves:\n",
    "    x,y = move\n",
    "    next_pos = zone[current[1] + y][current[0] + x]\n",
    "\n",
    "    if next_pos == \".\": \n",
    "        zone[current[1]][current[0]] = \".\"\n",
    "        current[0] += x\n",
    "        current[1] += y\n",
    "        zone[current[1]][current[0]] = \"@\"\n",
    "    elif next_pos == \"#\":\n",
    "        continue\n",
    "    elif isinstance(next_pos, Box2):\n",
    "        if not next_pos.move(x , y):\n",
    "            continue\n",
    "        zone[current[1]][current[0]] = \".\"\n",
    "        current[0] += x\n",
    "        current[1] += y\n",
    "        zone[current[1]][current[0]] = \"@\"\n",
    "\n",
    "for line in zone:\n",
    "    print(\"\".join(map(str,line)))"
   ]
  },
  {
   "cell_type": "code",
   "execution_count": null,
   "metadata": {},
   "outputs": [],
   "source": [
    "gps = sum([box.gps for box in boxes])\n",
    "gps"
   ]
  },
  {
   "cell_type": "markdown",
   "metadata": {},
   "source": [
    "# Part 1"
   ]
  },
  {
   "cell_type": "code",
   "execution_count": null,
   "metadata": {},
   "outputs": [],
   "source": [
    "initial_pos = None\n",
    "zone = []\n",
    "moves = []\n",
    "boxes = []\n",
    "\n",
    "zone, boxes, initial_pos, moves = open_file(\"data_day15.txt\")"
   ]
  },
  {
   "cell_type": "code",
   "execution_count": null,
   "metadata": {},
   "outputs": [],
   "source": [
    "current = [initial_pos[0], initial_pos[1]]\n",
    "\n",
    "for move in moves:\n",
    "    x,y = move\n",
    "    next_pos = zone[current[1] + y][current[0] + x]\n",
    "\n",
    "    if next_pos == \".\": \n",
    "        current[0] += x\n",
    "        current[1] += y\n",
    "    elif next_pos == \"#\":\n",
    "        continue\n",
    "    elif isinstance(next_pos, Box):\n",
    "        if not next_pos.move(x , y):\n",
    "            continue\n",
    "        current[0] += x\n",
    "        current[1] += y\n",
    "        zone[current[1]][current[0]] = \".\""
   ]
  },
  {
   "cell_type": "code",
   "execution_count": null,
   "metadata": {},
   "outputs": [],
   "source": [
    "gps = sum([box.gps for box in boxes])\n",
    "gps"
   ]
  }
 ],
 "metadata": {
  "kernelspec": {
   "display_name": "base",
   "language": "python",
   "name": "python3"
  },
  "language_info": {
   "codemirror_mode": {
    "name": "ipython",
    "version": 3
   },
   "file_extension": ".py",
   "mimetype": "text/x-python",
   "name": "python",
   "nbconvert_exporter": "python",
   "pygments_lexer": "ipython3",
   "version": "3.12.4"
  }
 },
 "nbformat": 4,
 "nbformat_minor": 2
}
