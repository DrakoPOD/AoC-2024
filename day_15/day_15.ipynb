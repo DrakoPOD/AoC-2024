{
 "cells": [
  {
   "cell_type": "code",
   "execution_count": 15,
   "metadata": {},
   "outputs": [],
   "source": [
    "directions = {\n",
    "    \"^\": (0, -1),\n",
    "    \"v\": (0, 1),\n",
    "    \"<\": (-1, 0),\n",
    "    \">\": (1, 0)\n",
    "}"
   ]
  },
  {
   "cell_type": "code",
   "execution_count": 16,
   "metadata": {},
   "outputs": [],
   "source": [
    "class Box:\n",
    "    def __init__(self,x,y, zone):\n",
    "        self.x = x\n",
    "        self.y = y\n",
    "        self.zone = zone\n",
    "\n",
    "    @property\n",
    "    def position(self):\n",
    "        return (self.x,self.y)\n",
    "    \n",
    "    @property\n",
    "    def gps(self):\n",
    "        return 100*self.y + self.x\n",
    "    \n",
    "    def move(self, x, y):\n",
    "        next_pos = self.zone[self.y + y][self.x + x]\n",
    "        if next_pos == \".\":\n",
    "            self.x += x\n",
    "            self.y += y\n",
    "            self.zone[self.y][self.x] = self\n",
    "            return True\n",
    "        if next_pos == \"#\":\n",
    "            return False\n",
    "        if isinstance(next_pos, Box):\n",
    "            if not next_pos.move(x , y):\n",
    "                return False\n",
    "            self.x += x\n",
    "            self.y += y\n",
    "            self.zone[self.y][self.x] = self\n",
    "            return True\n",
    "        \n",
    "    def __repr__(self):\n",
    "        return \" O \"\n"
   ]
  },
  {
   "cell_type": "code",
   "execution_count": 17,
   "metadata": {},
   "outputs": [],
   "source": [
    "class Box2:\n",
    "    def __init__(self,x,y, zone):\n",
    "        self.x1 = x\n",
    "        self.x2 = x + 1\n",
    "        self.y = y\n",
    "        self.zone = zone\n",
    "\n",
    "    @property\n",
    "    def position(self):\n",
    "        return (self.x1,self.y)\n",
    "    \n",
    "    @property\n",
    "    def gps(self):\n",
    "        return 100*self.y + self.x1\n",
    "    \n",
    "    def check_move(self, x, y):\n",
    "        x1 = x\n",
    "        if x != 0:\n",
    "            if x == 1:\n",
    "                x1 = 2\n",
    "            elif x == -1:\n",
    "                x1 = -1\n",
    "        next_pos1 = self.zone[self.y + y][self.x1 + x1]\n",
    "\n",
    "        if y != 0:\n",
    "            next_pos2 = self.zone[self.y + y][self.x2]\n",
    "            if next_pos1 == \".\" and next_pos2 == \".\":\n",
    "                return True\n",
    "            if next_pos1 == \"#\" or next_pos2 == \"#\":\n",
    "                return False\n",
    "            \n",
    "            side1 = True\n",
    "            side2 = True\n",
    "\n",
    "            if isinstance(next_pos1, Box2):\n",
    "                side1 = next_pos1.check_move(0, y)\n",
    "            if isinstance(next_pos2, Box2) and (next_pos2 != next_pos1):\n",
    "                side2 = next_pos2.check_move(0, y)\n",
    "            return side1 and side2\n",
    "        else:\n",
    "            if next_pos1 == \".\":\n",
    "                return True\n",
    "            if next_pos1 == \"#\":\n",
    "                return False\n",
    "            if isinstance(next_pos1, Box2):\n",
    "                return next_pos1.check_move(x, 0)\n",
    "            return True\n",
    "            \n",
    "\n",
    "    def move(self, x, y):\n",
    "        x1 = x\n",
    "        if x != 0:\n",
    "            if x == 1:\n",
    "                x1 = 2\n",
    "            elif x == -1:\n",
    "                x1 = -1\n",
    "        next_pos1 = self.zone[self.y + y][self.x1 + x1]\n",
    "        \n",
    "        if y != 0:\n",
    "            next_pos2 = self.zone[self.y + y][self.x2]\n",
    "            if isinstance(next_pos1, Box2):\n",
    "                next_pos1.move(0, y)\n",
    "            if isinstance(next_pos2, Box2) and (next_pos2 != next_pos1):\n",
    "                next_pos2.move(0, y)\n",
    "            self.zone[self.y][self.x1] = \".\"\n",
    "            self.zone[self.y][self.x2] = \".\"\n",
    "            self.y += y\n",
    "            self.zone[self.y][self.x1] = self\n",
    "            self.zone[self.y][self.x2] = self\n",
    "            return True\n",
    "        else:\n",
    "            if isinstance(next_pos1, Box2):\n",
    "                next_pos1.move(x, 0)\n",
    "            self.zone[self.y][self.x1] = \".\"\n",
    "            self.zone[self.y][self.x2] = \".\"\n",
    "            self.x1 += x\n",
    "            self.x2 += x\n",
    "            self.zone[self.y][self.x1] = self\n",
    "            self.zone[self.y][self.x2] = self\n",
    "            return True\n",
    "                \n",
    "    def __repr__(self):\n",
    "        return \"O\""
   ]
  },
  {
   "cell_type": "code",
   "execution_count": 18,
   "metadata": {},
   "outputs": [],
   "source": [
    "def open_file(file):\n",
    "    zone = []\n",
    "    boxes = []\n",
    "    initial_pos = None\n",
    "    moves = []\n",
    "    with open(file) as f:\n",
    "        z, m = f.read().split('\\n\\n')\n",
    "        \n",
    "        for y, line in enumerate(z.split('\\n')):\n",
    "            zone.append([])\n",
    "            for x, c in enumerate(list(line)):\n",
    "                if c == \"#\":\n",
    "                    zone[y].append(\"#\")\n",
    "                elif c == \".\":\n",
    "                    zone[y].append(\".\")\n",
    "                elif c == \"O\":\n",
    "                    box = Box(x, y, zone)\n",
    "                    zone[y].append(box)\n",
    "                    boxes.append(box)\n",
    "                elif c == \"@\":\n",
    "                    initial_pos = (x, y)\n",
    "                    zone[y].append(\".\")\n",
    "\n",
    "        m = map(list,m.split('\\n'))\n",
    "        moves = [element for sublist in m for element in sublist]\n",
    "        moves = list(map(lambda x: directions[x], moves))\n",
    "\n",
    "    return zone, boxes, initial_pos, moves"
   ]
  },
  {
   "cell_type": "code",
   "execution_count": 19,
   "metadata": {},
   "outputs": [],
   "source": [
    "def open_file2(file):\n",
    "    zone = []\n",
    "    boxes = []\n",
    "    initial_pos = None\n",
    "    moves = []\n",
    "    with open(file) as f:\n",
    "        z, m = f.read().split('\\n\\n')\n",
    "        \n",
    "        for y, line in enumerate(z.split('\\n')):\n",
    "            zone.append([])\n",
    "            for x, c in enumerate(list(line)):\n",
    "                if c == \"#\":\n",
    "                    zone[y].extend([\"#\", \"#\"])\n",
    "                elif c == \".\":\n",
    "                    zone[y].extend([\".\", \".\"])\n",
    "                elif c == \"O\":\n",
    "                    box2 = Box2(x*2, y, zone)\n",
    "                    zone[y].extend([box2, box2])\n",
    "                    boxes.append(box2)\n",
    "                elif c == \"@\":\n",
    "                    initial_pos = (x*2, y)\n",
    "                    zone[y].extend([\"@\", \".\"])\n",
    "\n",
    "        m = map(list,m.split('\\n'))\n",
    "        moves = [element for sublist in m for element in sublist]\n",
    "        moves = list(map(lambda x: directions[x], moves))\n",
    "    \n",
    "    return zone, boxes, initial_pos, moves"
   ]
  },
  {
   "cell_type": "markdown",
   "metadata": {},
   "source": [
    "# Example"
   ]
  },
  {
   "cell_type": "code",
   "execution_count": 20,
   "metadata": {},
   "outputs": [
    {
     "data": {
      "text/plain": [
       "[['#', '#', '#', '#', '#', '#', '#', '#', '#', '#'],\n",
       " ['#', '.', '.',  O , '.', '.',  O , '.',  O , '#'],\n",
       " ['#', '.', '.', '.', '.', '.', '.',  O , '.', '#'],\n",
       " ['#', '.',  O ,  O , '.', '.',  O , '.',  O , '#'],\n",
       " ['#', '.', '.',  O , '.', '.', '.',  O , '.', '#'],\n",
       " ['#',  O , '#', '.', '.',  O , '.', '.', '.', '#'],\n",
       " ['#',  O , '.', '.',  O , '.', '.',  O , '.', '#'],\n",
       " ['#', '.',  O ,  O , '.',  O , '.',  O ,  O , '#'],\n",
       " ['#', '.', '.', '.', '.',  O , '.', '.', '.', '#'],\n",
       " ['#', '#', '#', '#', '#', '#', '#', '#', '#', '#']]"
      ]
     },
     "execution_count": 20,
     "metadata": {},
     "output_type": "execute_result"
    }
   ],
   "source": [
    "initial_pos = None\n",
    "zone = []\n",
    "moves = []\n",
    "boxes = []\n",
    "\n",
    "zone, boxes, initial_pos, moves = open_file(\"example_day15.txt\")\n",
    "\n",
    "zone"
   ]
  },
  {
   "cell_type": "code",
   "execution_count": 21,
   "metadata": {},
   "outputs": [
    {
     "data": {
      "text/plain": [
       "[['#', '#', '#', '#', '#', '#', '#', '#', '#', '#'],\n",
       " ['#', '.',  O , '.',  O , '.',  O ,  O ,  O , '#'],\n",
       " ['#', '.', '.', '.', '.', '.', '.', '.', '.', '#'],\n",
       " ['#',  O ,  O , '.', '.', '.', '.', '.', '.', '#'],\n",
       " ['#',  O ,  O , '.', '.', '.', '.', '.', '.', '#'],\n",
       " ['#',  O , '#', '.', '.', '.', '.', '.',  O , '#'],\n",
       " ['#',  O , '.', '.', '.', '.', '.',  O ,  O , '#'],\n",
       " ['#',  O , '.', '.', '.', '.', '.',  O ,  O , '#'],\n",
       " ['#',  O ,  O , '.', '.', '.', '.',  O ,  O , '#'],\n",
       " ['#', '#', '#', '#', '#', '#', '#', '#', '#', '#']]"
      ]
     },
     "execution_count": 21,
     "metadata": {},
     "output_type": "execute_result"
    }
   ],
   "source": [
    "current = [initial_pos[0], initial_pos[1]]\n",
    "\n",
    "for move in moves:\n",
    "    x,y = move\n",
    "    next_pos = zone[current[1] + y][current[0] + x]\n",
    "\n",
    "    if next_pos == \".\": \n",
    "        current[0] += x\n",
    "        current[1] += y\n",
    "    elif next_pos == \"#\":\n",
    "        continue\n",
    "    elif isinstance(next_pos, Box):\n",
    "        if not next_pos.move(x , y):\n",
    "            continue\n",
    "        current[0] += x\n",
    "        current[1] += y\n",
    "        zone[current[1]][current[0]] = \".\"\n",
    "\n",
    "zone"
   ]
  },
  {
   "cell_type": "code",
   "execution_count": 22,
   "metadata": {},
   "outputs": [
    {
     "data": {
      "text/plain": [
       "10092"
      ]
     },
     "execution_count": 22,
     "metadata": {},
     "output_type": "execute_result"
    }
   ],
   "source": [
    "gps = sum([box.gps for box in boxes])\n",
    "gps"
   ]
  },
  {
   "cell_type": "code",
   "execution_count": 23,
   "metadata": {},
   "outputs": [
    {
     "name": "stdout",
     "output_type": "stream",
     "text": [
      "####################\n",
      "##....OO....OO..OO##\n",
      "##............OO..##\n",
      "##..OOOO....OO..OO##\n",
      "##....OO@.....OO..##\n",
      "##OO##....OO......##\n",
      "##OO....OO....OO..##\n",
      "##..OOOO..OO..OOOO##\n",
      "##........OO......##\n",
      "####################\n"
     ]
    }
   ],
   "source": [
    "initial_pos = None\n",
    "zone = []\n",
    "moves = []\n",
    "boxes = []\n",
    "\n",
    "zone, boxes, initial_pos, moves = open_file2(\"example_day15.txt\")\n",
    "for line in zone:\n",
    "    print(\"\".join(map(str,line)))"
   ]
  },
  {
   "cell_type": "code",
   "execution_count": 24,
   "metadata": {},
   "outputs": [
    {
     "name": "stdout",
     "output_type": "stream",
     "text": [
      "####################\n",
      "##OO.......OO.OOOO##\n",
      "##OO...........OO.##\n",
      "##OO........OOOOOO##\n",
      "##OO......OO....OO##\n",
      "##..##......OO....##\n",
      "##..OO............##\n",
      "##..@......OO.OOOO##\n",
      "##......OOOO..OO..##\n",
      "####################\n"
     ]
    }
   ],
   "source": [
    "current = [initial_pos[0], initial_pos[1]]\n",
    "\n",
    "for move in moves:\n",
    "    x,y = move\n",
    "    next_pos = zone[current[1] + y][current[0] + x]\n",
    "\n",
    "    if next_pos == \".\": \n",
    "        zone[current[1]][current[0]] = \".\"\n",
    "        current[0] += x\n",
    "        current[1] += y\n",
    "        zone[current[1]][current[0]] = \"@\"\n",
    "    elif next_pos == \"#\":\n",
    "        continue\n",
    "    elif isinstance(next_pos, Box2):\n",
    "        if not next_pos.check_move(x , y):\n",
    "            continue\n",
    "        next_pos.move(x, y)\n",
    "        zone[current[1]][current[0]] = \".\"\n",
    "        current[0] += x\n",
    "        current[1] += y\n",
    "        zone[current[1]][current[0]] = \"@\"\n",
    "\n",
    "for line in zone:\n",
    "    print(\"\".join(map(str,line)))"
   ]
  },
  {
   "cell_type": "code",
   "execution_count": 25,
   "metadata": {},
   "outputs": [
    {
     "data": {
      "text/plain": [
       "9021"
      ]
     },
     "execution_count": 25,
     "metadata": {},
     "output_type": "execute_result"
    }
   ],
   "source": [
    "gps = sum([box.gps for box in boxes])\n",
    "gps"
   ]
  },
  {
   "cell_type": "markdown",
   "metadata": {},
   "source": [
    "# Part 1"
   ]
  },
  {
   "cell_type": "code",
   "execution_count": 26,
   "metadata": {},
   "outputs": [],
   "source": [
    "initial_pos = None\n",
    "zone = []\n",
    "moves = []\n",
    "boxes = []\n",
    "\n",
    "zone, boxes, initial_pos, moves = open_file(\"data_day15.txt\")"
   ]
  },
  {
   "cell_type": "code",
   "execution_count": 27,
   "metadata": {},
   "outputs": [],
   "source": [
    "current = [initial_pos[0], initial_pos[1]]\n",
    "\n",
    "for move in moves:\n",
    "    x,y = move\n",
    "    next_pos = zone[current[1] + y][current[0] + x]\n",
    "\n",
    "    if next_pos == \".\": \n",
    "        current[0] += x\n",
    "        current[1] += y\n",
    "    elif next_pos == \"#\":\n",
    "        continue\n",
    "    elif isinstance(next_pos, Box):\n",
    "        if not next_pos.move(x , y):\n",
    "            continue\n",
    "        current[0] += x\n",
    "        current[1] += y\n",
    "        zone[current[1]][current[0]] = \".\""
   ]
  },
  {
   "cell_type": "code",
   "execution_count": 28,
   "metadata": {},
   "outputs": [
    {
     "data": {
      "text/plain": [
       "1421727"
      ]
     },
     "execution_count": 28,
     "metadata": {},
     "output_type": "execute_result"
    }
   ],
   "source": [
    "gps = sum([box.gps for box in boxes])\n",
    "gps"
   ]
  },
  {
   "cell_type": "markdown",
   "metadata": {},
   "source": [
    "# Part 2"
   ]
  },
  {
   "cell_type": "code",
   "execution_count": 29,
   "metadata": {},
   "outputs": [],
   "source": [
    "initial_pos = None\n",
    "zone = []\n",
    "moves = []\n",
    "boxes = []\n",
    "\n",
    "zone, boxes, initial_pos, moves = open_file2(\"data_day15.txt\")"
   ]
  },
  {
   "cell_type": "code",
   "execution_count": 30,
   "metadata": {},
   "outputs": [
    {
     "name": "stdout",
     "output_type": "stream",
     "text": [
      "####################################################################################################\n",
      "##......OOOO......##......OOOO..OO..OO..##OOOO..........OOOO..OOOOOOOOOO##OO..........OO..OO..OOOO##\n",
      "##..##..OOOO....##........OO........##........................OO...........OO.OOOO...OO.##....OO..##\n",
      "######.OO.OO..@...............................................OO####........##OO......OOOOOO....OO##\n",
      "##OOOOOO..OO......OO..OO.................OO................................OOOO.......OOOO####....##\n",
      "##OOOOOO.....................OO.........######OO..............................OO........##..OOOO..##\n",
      "##..##OOOO......##........................OOOOOO..............................OOOO##...OO..OOOOOO.##\n",
      "##..OO##..........OO..........................####OO............OO....##..OOOOOO........OO....OO..##\n",
      "##...........OO...OO..........OO##...............OOOOOOOO..............OO.##OO.OO.......OO...OO...##\n",
      "##..........OOOO........OO......##.........OOOO...##..##...OOOO...........OO.OO.........OO........##\n",
      "##..................OOOO........OO........OO......OOOO..OOOO##OO.....................OOOO.......OO##\n",
      "##....##OOOOOOOOOO...............OO...........OO....OO...OOOO..OO...............OO##....OOOO....OO##\n",
      "##........OOOO........##.OO.OO..............##..OO####..####OOOO##OO..................OO......OO..##\n",
      "##......OO####......##..OO..##....OO..............OO....##OO..OO..##....OO........OO......OO......##\n",
      "##..................##....OO..##........OO......##......OO....OO................OO##.....OO.OO....##\n",
      "##..........OO.OO.##OO....OOOO##.......OOOO.......OOOO##OOOO##OO.OO.##......................OO....##\n",
      "##....##....OOOOOO......OOOO...OOOO....OO.OO......OO..##OOOOOO...OO.##........................OO####\n",
      "##..OO....OO..OOOO................OO....OO............##.OO.OO...OOOO.............OO.OO.##........##\n",
      "##..OO........OOOO........OO..........##OO......##OO..OO..................##....................####\n",
      "##OOOO..OO....OOOO........OO.....OO.OO..##.......OOOO.....OO....##........OOOOOO....OO..........OO##\n",
      "##OOOO##..OOOO..##....OO....##..OO..OO..OO##OO.....OOOO.......##....##..##.OO...OO..........OO....##\n",
      "##OOOO....OOOO##OO.............OO.OO####.....OO.............##OO....OOOO................OO.OO.....##\n",
      "##OOOO..OOOO##OOOO..OO..OO............##..##OOOO..OO.......OO.......OO##OOOO...........OOOOOO.....##\n",
      "##..##............OO......##................OOOO...........OO.......OOOOOOOO##....OO..##..##..##..##\n",
      "##........................OO....OO.......OO.OOOOOO....OO..............OOOO##OO............OO.OO...##\n",
      "##......##......OOOOOO..##OOOOOO......##....OOOO......OOOO..........OOOO####OO.......OO.....OOOO..##\n",
      "##........##......OO..OOOOOOOO.OOOOOO...........OO..OOOO##................OO............OO......OO##\n",
      "##........OO....OO##OO......OOOO....##....##....OOOO####OO..............##......................OO##\n",
      "##....OOOOOO....##....##....OO......OOOO.OO....OO...######..............OO....##..............##..##\n",
      "####......OO......######....OO........OOOO........OOOOOO..........##..............OO..........OOOO##\n",
      "##....OO......OOOOOO........OO.OO.OO.OO...........##........OO............OO......OO##....##..OOOO##\n",
      "##..OOOO..OOOO##OOOO..........##OO##..OO...........OO.......OO.OO.......##..##....OO..OOOOOOOOOO..##\n",
      "##OO..OO......##.........................................OO.OOOO##........OOOOOOOOOO##OOOO..OO....##\n",
      "##...................OO...OO..................OO............OOOO.OOOO........OOOOOOOOOO.....OO##..##\n",
      "##OO####OO..OO..OO.......OO......OO......................OOOOOOOOOOOO.........OOOOOOOOOO##..OO..OO##\n",
      "##..OOOO....OOOOOOOOOO...........................OO.....OOOOOO..##.OOOO.....OO####OO.OO.......OOOO##\n",
      "##..OO##......OO..OO..OO......OOOO......OO..............OOOO##OOOO.OO.......##OOOOOO..OO......OO..##\n",
      "##OO....##........OO............OO......##..##..........OO##OO....OO.............OO.##OO....####..##\n",
      "##..OO..OO....OO##OOOO........OO...............OO.OO....OO##..OO..OO..................OO##......####\n",
      "##....##......OO..OO........OO..OO...............OO.....##....OO.OO....OO.........##.OO.........####\n",
      "##......OO........OOOO..OO.OOOO.................OO......OO......##......OOOO##...OOOO.OO.......OO.##\n",
      "####..............OO..OO##OOOOOO....OO...............................OO...OO..##................OO##\n",
      "##......##OO..OO..##OO...OO...OO....OO......................OO.......OO............OO...##..##....##\n",
      "##..##OO....##..OO......##OO......OO.OO.......OO....OO........OO....OOOO................##OOOO....##\n",
      "##....OOOOOO....OOOO..........OOOO..OO............##OO...........OOOO.OO.OOOO............OOOOOO...##\n",
      "######..OOOO........OO..........##..............##..OO....OO..........OOOO..##OO..........####....##\n",
      "##..OO##OO..........OOOO##............##......OO....##..OO........OO..######......OO....##........##\n",
      "##....OOOO..OO##..............##..OO..OOOOOOOO......OO..##OOOOOO..................OOOO......OO....##\n",
      "##........OO....OO...........OO.......OOOO......####OO....##......OO........##..OO....OO..........##\n",
      "####################################################################################################\n"
     ]
    }
   ],
   "source": [
    "current = [initial_pos[0], initial_pos[1]]\n",
    "\n",
    "for move in moves:\n",
    "    x,y = move\n",
    "    next_pos = zone[current[1] + y][current[0] + x]\n",
    "\n",
    "    if next_pos == \".\": \n",
    "        zone[current[1]][current[0]] = \".\"\n",
    "        current[0] += x\n",
    "        current[1] += y\n",
    "        zone[current[1]][current[0]] = \"@\"\n",
    "    elif next_pos == \"#\":\n",
    "        continue\n",
    "    elif isinstance(next_pos, Box2):\n",
    "        if not next_pos.check_move(x , y):\n",
    "            continue\n",
    "        next_pos.move(x, y)\n",
    "        zone[current[1]][current[0]] = \".\"\n",
    "        current[0] += x\n",
    "        current[1] += y\n",
    "        zone[current[1]][current[0]] = \"@\"\n",
    "\n",
    "for line in zone:\n",
    "    print(\"\".join(map(str,line)))"
   ]
  },
  {
   "cell_type": "code",
   "execution_count": 31,
   "metadata": {},
   "outputs": [
    {
     "data": {
      "text/plain": [
       "1463160"
      ]
     },
     "execution_count": 31,
     "metadata": {},
     "output_type": "execute_result"
    }
   ],
   "source": [
    "gps = sum([box.gps for box in boxes])\n",
    "gps"
   ]
  }
 ],
 "metadata": {
  "kernelspec": {
   "display_name": "base",
   "language": "python",
   "name": "python3"
  },
  "language_info": {
   "codemirror_mode": {
    "name": "ipython",
    "version": 3
   },
   "file_extension": ".py",
   "mimetype": "text/x-python",
   "name": "python",
   "nbconvert_exporter": "python",
   "pygments_lexer": "ipython3",
   "version": "3.11.10"
  }
 },
 "nbformat": 4,
 "nbformat_minor": 2
}
