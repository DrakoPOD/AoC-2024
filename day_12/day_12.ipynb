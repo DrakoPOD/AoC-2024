{
 "cells": [
  {
   "cell_type": "code",
   "execution_count": 484,
   "metadata": {},
   "outputs": [],
   "source": [
    "class Plot:\n",
    "    def __init__(self,x,y, name):\n",
    "        self.x = x\n",
    "        self.y = y\n",
    "        self.name = name\n",
    "        self.adjacent = []\n",
    "        self.checked = False\n",
    "        self.area = None\n",
    "        self.right = True\n",
    "        self.bottom = True\n",
    "        self.left = True\n",
    "        self.top = True\n",
    "\n",
    "    @property\n",
    "    def perimeter(self):\n",
    "        return 4 - len(self.adjacent)\n",
    "    \n",
    "    def __repr__(self):\n",
    "        return self.name"
   ]
  },
  {
   "cell_type": "code",
   "execution_count": 485,
   "metadata": {},
   "outputs": [],
   "source": [
    "class Area:\n",
    "    def __init__(self, name):\n",
    "        self.plots = []\n",
    "        self.name = name\n",
    "        self.x = None\n",
    "        self.y = None\n",
    "        self.h = None\n",
    "        self.w = None\n",
    "        self.zones = None\n",
    "        self.sides = []\n",
    "\n",
    "    def add_plot(self, plot):\n",
    "        if plot not in self.plots:\n",
    "            plot.checked = True\n",
    "            self.plots.append(plot)\n",
    "            plot.area = self\n",
    "            \n",
    "        for adjacent in plot.adjacent:\n",
    "            if adjacent not in self.plots:\n",
    "                if not adjacent.checked:\n",
    "                    adjacent.checked = True\n",
    "                    self.plots.append(adjacent)\n",
    "                    plot.area = self\n",
    "                    self.add_plot(adjacent)\n",
    "\n",
    "    @property\n",
    "    def area(self):\n",
    "        return len(self.plots)\n",
    "    \n",
    "    @property\n",
    "    def perimeter(self):\n",
    "        return sum([plot.perimeter for plot in self.plots])\n",
    "    \n",
    "    @property\n",
    "    def price(self):\n",
    "        return self.area * self.perimeter\n",
    "    \n",
    "    @property\n",
    "    def price_discount(self):\n",
    "        return self.total_sides * self.area\n",
    "    \n",
    "    @property\n",
    "    def total_sides(self):\n",
    "        if self.x is None:\n",
    "            self.set_pos()\n",
    "        # top\n",
    "        top = 0\n",
    "        for y in range(self.y, self.y + self.h):\n",
    "            row = filter(lambda plot: plot.y == y, self.plots)\n",
    "            row = sorted(row, key=lambda plot: plot.x)\n",
    "\n",
    "            if len(row) == 1:\n",
    "                if row[0].top:\n",
    "                    top += 1\n",
    "                    continue\n",
    "\n",
    "            contiguos = False\n",
    "            for i in range(len(row) - 1):\n",
    "                plot_1 = row[i]\n",
    "                plot_2 = row[i + 1]\n",
    "\n",
    "                if not contiguos and plot_1.top:\n",
    "                    top += 1\n",
    "                    contiguos = True\n",
    "\n",
    "                diff = plot_2.x - plot_1.x\n",
    "                if diff > 1:\n",
    "                    contiguos = False\n",
    "\n",
    "                if not plot_1.top or not plot_2.top:\n",
    "                    contiguos = False\n",
    "                \n",
    "                if not contiguos and plot_2.top:\n",
    "                    top += 1\n",
    "                    contiguos = True\n",
    "\n",
    "        # bottom\n",
    "        bottom = 0\n",
    "        for y in range(self.y, self.y + self.h):\n",
    "            row = filter(lambda plot: plot.y == y, self.plots)\n",
    "            row = sorted(row, key=lambda plot: plot.x)\n",
    "\n",
    "            contiguos = False\n",
    "            if len(row) == 1:\n",
    "                if row[0].bottom:\n",
    "                    bottom += 1\n",
    "                    continue\n",
    "            for i in range(len(row) - 1):\n",
    "                plot_1 = row[i]\n",
    "                plot_2 = row[i + 1]\n",
    "\n",
    "                if not contiguos and plot_1.bottom:\n",
    "                    bottom += 1\n",
    "                    contiguos = True\n",
    "\n",
    "                diff = plot_2.x - plot_1.x\n",
    "                if diff > 1:\n",
    "                    contiguos = False\n",
    "\n",
    "                if not plot_1.bottom or not plot_2.bottom:\n",
    "                    contiguos = False\n",
    "                \n",
    "                if not contiguos and plot_2.bottom:\n",
    "                    bottom += 1\n",
    "                    contiguos = True\n",
    "\n",
    "\n",
    "        # left\n",
    "        left = 0\n",
    "        for x in range(self.x, self.x + self.w):\n",
    "            column = filter(lambda plot: plot.x == x, self.plots)\n",
    "            column = sorted(column, key=lambda plot: plot.y)\n",
    "            contiguos = False\n",
    "            if len(column) == 1:\n",
    "                if column[0].left:\n",
    "                    left += 1\n",
    "                    continue\n",
    "            for i in range(len(column) - 1):\n",
    "                plot_1 = column[i]\n",
    "                plot_2 = column[i + 1]\n",
    "\n",
    "                if not contiguos and plot_1.left:\n",
    "                    left += 1\n",
    "                    contiguos = True\n",
    "\n",
    "                diff = plot_2.y - plot_1.y\n",
    "                if diff > 1:\n",
    "                    contiguos = False\n",
    "\n",
    "                if not plot_1.left or not plot_2.left:\n",
    "                    contiguos = False\n",
    "                \n",
    "                if not contiguos and plot_2.left:\n",
    "                    left += 1\n",
    "                    contiguos = True\n",
    "\n",
    "\n",
    "        # right\n",
    "        right = 0\n",
    "        for x in range(self.x, self.x + self.w):\n",
    "            column = filter(lambda plot: plot.x == x, self.plots)\n",
    "            column = sorted(column, key=lambda plot: plot.y)\n",
    "\n",
    "            contiguos = False\n",
    "            if len(column) == 1:\n",
    "                if column[0].right:\n",
    "                    right += 1\n",
    "                    continue\n",
    "            for i in range(len(column) - 1):\n",
    "                plot_1 = column[i]\n",
    "                plot_2 = column[i + 1]\n",
    "\n",
    "                if not contiguos and plot_1.right:\n",
    "                    right += 1\n",
    "                    contiguos = True\n",
    "\n",
    "                diff = plot_2.y - plot_1.y\n",
    "                if diff > 1:\n",
    "                    contiguos = False\n",
    "\n",
    "                if not plot_1.right or not plot_2.right:\n",
    "                    contiguos = False\n",
    "                \n",
    "                if not contiguos and plot_2.right:\n",
    "                    right += 1\n",
    "                    contiguos = True\n",
    "\n",
    "\n",
    "        self.sides = [top, bottom, left, right]\n",
    "        return top + bottom + left + right\n",
    "\n",
    "    def set_pos(self):\n",
    "        self.x = min([x.x for x in self.plots])\n",
    "        self.y = min([y.y for y in self.plots])\n",
    "        self.h = max([y.y for y in self.plots]) - self.y + 1\n",
    "        self.w = max([x.x for x in self.plots]) - self.x + 1\n",
    "    \n",
    "    def __str__(self):\n",
    "        return f'{self.name} area: {self.area} perimeter: {self.perimeter} price: {self.price} total_sides: {self.total_sides}'\n",
    "\n",
    "    def __repr__(self):\n",
    "        return self.name"
   ]
  },
  {
   "cell_type": "code",
   "execution_count": 486,
   "metadata": {},
   "outputs": [
    {
     "data": {
      "text/plain": [
       "[[R, R, R, R, I, I, C, C, F, F],\n",
       " [R, R, R, R, I, I, C, C, C, F],\n",
       " [V, V, R, R, R, C, C, F, F, F],\n",
       " [V, V, R, C, C, C, J, F, F, F],\n",
       " [V, V, V, V, C, J, J, C, F, E],\n",
       " [V, V, I, V, C, C, J, J, E, E],\n",
       " [V, V, I, I, I, C, J, J, E, E],\n",
       " [M, I, I, I, I, I, J, J, E, E],\n",
       " [M, I, I, I, S, I, J, E, E, E],\n",
       " [M, M, M, I, S, S, J, E, E, E]]"
      ]
     },
     "execution_count": 486,
     "metadata": {},
     "output_type": "execute_result"
    }
   ],
   "source": [
    "zone = []\n",
    "\n",
    "with open('./example_day12.txt') as f:\n",
    "    for i, line in enumerate(f):\n",
    "        zone.append([Plot(j, i, name) for j,name in enumerate(line.strip())])\n",
    "\n",
    "zone"
   ]
  },
  {
   "cell_type": "code",
   "execution_count": 487,
   "metadata": {},
   "outputs": [],
   "source": [
    "for row in zone:\n",
    "    for plot in row:\n",
    "        for i, j in [(0, 1), (1, 0), (0, -1), (-1, 0)]:\n",
    "            ny, nx = plot.y + i, plot.x + j\n",
    "            if 0 <= ny < len(zone) and 0 <= nx < len(row):  # Verifica límites correctos\n",
    "                if plot.name == zone[ny][nx].name:\n",
    "                    plot.adjacent.append(zone[ny][nx])\n",
    "\n",
    "                    if i == 1:\n",
    "                        plot.bottom = False\n",
    "                    elif i == -1:\n",
    "                        plot.top = False\n",
    "                    elif j == 1:\n",
    "                        plot.right = False\n",
    "                    elif j == -1:\n",
    "                        plot.left = False"
   ]
  },
  {
   "cell_type": "code",
   "execution_count": 488,
   "metadata": {},
   "outputs": [
    {
     "data": {
      "text/plain": [
       "[R, I, C, F, V, J, C, E, I, M, S]"
      ]
     },
     "execution_count": 488,
     "metadata": {},
     "output_type": "execute_result"
    }
   ],
   "source": [
    "areas = []\n",
    "\n",
    "for row in zone:\n",
    "    for plot in row:\n",
    "        if plot.checked == False:\n",
    "            plot.checked = True\n",
    "            area = Area(plot.name)\n",
    "            area.zones = zone\n",
    "            area.add_plot(plot)\n",
    "            areas.append(area)\n",
    "areas"
   ]
  },
  {
   "cell_type": "code",
   "execution_count": 489,
   "metadata": {},
   "outputs": [
    {
     "name": "stdout",
     "output_type": "stream",
     "text": [
      "area: R price 12 * 10 = 120 -- [2, 3, 2, 3]\n",
      "area: I price 4 * 4 = 16 -- [1, 1, 1, 1]\n",
      "area: C price 14 * 22 = 308 -- [5, 6, 5, 6]\n",
      "area: F price 10 * 12 = 120 -- [2, 4, 4, 2]\n",
      "area: V price 13 * 10 = 130 -- [2, 3, 2, 3]\n",
      "area: J price 11 * 12 = 132 -- [3, 3, 3, 3]\n",
      "area: C price 1 * 4 = 4 -- [1, 1, 1, 1]\n",
      "area: E price 13 * 8 = 104 -- [3, 1, 3, 1]\n",
      "area: I price 14 * 16 = 224 -- [4, 4, 4, 4]\n",
      "area: M price 5 * 6 = 30 -- [2, 1, 1, 2]\n",
      "area: S price 3 * 6 = 18 -- [2, 1, 1, 2]\n"
     ]
    }
   ],
   "source": [
    "for area in areas:\n",
    "    area.total_sides\n",
    "    print(f\"area: {area.name} price {area.area} * {area.total_sides} = {area.price_discount} -- {area.sides}\")"
   ]
  },
  {
   "cell_type": "code",
   "execution_count": 490,
   "metadata": {},
   "outputs": [
    {
     "data": {
      "text/plain": [
       "1930"
      ]
     },
     "execution_count": 490,
     "metadata": {},
     "output_type": "execute_result"
    }
   ],
   "source": [
    "price = sum([area.price for area in areas])\n",
    "price"
   ]
  },
  {
   "cell_type": "code",
   "execution_count": 491,
   "metadata": {},
   "outputs": [
    {
     "data": {
      "text/plain": [
       "1206"
      ]
     },
     "execution_count": 491,
     "metadata": {},
     "output_type": "execute_result"
    }
   ],
   "source": [
    "discount = sum([area.price_discount for area in areas])\n",
    "discount"
   ]
  },
  {
   "cell_type": "markdown",
   "metadata": {},
   "source": [
    "# Part 1"
   ]
  },
  {
   "cell_type": "code",
   "execution_count": 492,
   "metadata": {},
   "outputs": [],
   "source": [
    "zone = []\n",
    "\n",
    "with open('./data_day12.txt') as f:\n",
    "    for i, line in enumerate(f):\n",
    "        zone.append([Plot(j, i, x) for j,x in enumerate(line.strip())])"
   ]
  },
  {
   "cell_type": "code",
   "execution_count": 493,
   "metadata": {},
   "outputs": [],
   "source": [
    "for row in zone:\n",
    "    for plot in row:\n",
    "        for i, j in [(0, 1), (1, 0), (0, -1), (-1, 0)]:\n",
    "            ny, nx = plot.y + i, plot.x + j\n",
    "            if 0 <= ny < len(zone) and 0 <= nx < len(row):  # Verifica límites correctos\n",
    "                if plot.name == zone[ny][nx].name:\n",
    "                    plot.adjacent.append(zone[ny][nx])\n",
    "\n",
    "                    if i == 1:\n",
    "                        plot.bottom = False\n",
    "                    elif i == -1:\n",
    "                        plot.top = False\n",
    "                    elif j == 1:\n",
    "                        plot.right = False\n",
    "                    elif j == -1:\n",
    "                        plot.left = False\n"
   ]
  },
  {
   "cell_type": "code",
   "execution_count": 494,
   "metadata": {},
   "outputs": [],
   "source": [
    "areas = []\n",
    "\n",
    "for row in zone:\n",
    "    for plot in row:\n",
    "        if plot.checked == False:\n",
    "            plot.checked = True\n",
    "            area = Area(plot.name)\n",
    "            area.add_plot(plot)\n",
    "            areas.append(area)\n"
   ]
  },
  {
   "cell_type": "code",
   "execution_count": 495,
   "metadata": {},
   "outputs": [
    {
     "data": {
      "text/plain": [
       "1433460"
      ]
     },
     "execution_count": 495,
     "metadata": {},
     "output_type": "execute_result"
    }
   ],
   "source": [
    "price = sum([area.price for area in areas])\n",
    "price"
   ]
  },
  {
   "cell_type": "code",
   "execution_count": 496,
   "metadata": {},
   "outputs": [
    {
     "data": {
      "text/plain": [
       "855082"
      ]
     },
     "execution_count": 496,
     "metadata": {},
     "output_type": "execute_result"
    }
   ],
   "source": [
    "discount = sum([area.price_discount for area in areas])\n",
    "discount"
   ]
  }
 ],
 "metadata": {
  "kernelspec": {
   "display_name": "base",
   "language": "python",
   "name": "python3"
  },
  "language_info": {
   "codemirror_mode": {
    "name": "ipython",
    "version": 3
   },
   "file_extension": ".py",
   "mimetype": "text/x-python",
   "name": "python",
   "nbconvert_exporter": "python",
   "pygments_lexer": "ipython3",
   "version": "3.12.4"
  }
 },
 "nbformat": 4,
 "nbformat_minor": 2
}
