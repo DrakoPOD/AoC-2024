{
 "cells": [
  {
   "cell_type": "code",
   "execution_count": 32,
   "metadata": {},
   "outputs": [],
   "source": [
    "def read_file(file):\n",
    "    with open(file, 'r') as f:\n",
    "        r,p = f.read().split('\\n\\n')\n",
    "        A, B, C = r.split('\\n')\n",
    "        A = int(A.replace('Register A: ', ''))\n",
    "        B = int(B.replace('Register B: ', ''))\n",
    "        C = int(C.replace('Register C: ', ''))\n",
    "        p = list(map(int,p.replace('Program: ', '').split(',')))\n",
    "    return A, B, C, p"
   ]
  },
  {
   "cell_type": "code",
   "execution_count": 33,
   "metadata": {},
   "outputs": [],
   "source": [
    "def instructions(A, B, C, opcode, operand):\n",
    "    jump = -1\n",
    "    output = ''\n",
    "\n",
    "    def combo(operand, A, B ,C):\n",
    "        if operand <= 3:\n",
    "            return operand\n",
    "        elif operand == 4:\n",
    "            return A\n",
    "        elif operand == 5:\n",
    "            return B\n",
    "        elif operand == 6:\n",
    "            return C\n",
    "        return 7\n",
    "\n",
    "    if opcode == 0:\n",
    "        A  = A // (2**combo(operand, A, B, C))\n",
    "    elif opcode == 1:\n",
    "        bin_1 = bin(B)[2:]\n",
    "        bin_2 = bin(operand)[2:]\n",
    "        bin_1 = '0'*(len(bin_2)-len(bin_1)) + bin_1\n",
    "        bin_2 = '0'*(len(bin_1)-len(bin_2)) + bin_2\n",
    "        bin_res = ''\n",
    "        for i in range(len(bin_1)):\n",
    "            if bin_1[i] == bin_2[i]:\n",
    "                bin_res += '0'\n",
    "            else:\n",
    "                bin_res += '1'\n",
    "        B = int(bin_res, 2)\n",
    "    elif opcode == 2:\n",
    "        B = combo(operand, A, B, C) % 8\n",
    "    elif opcode == 3:\n",
    "        if A != 0:\n",
    "            jump = 0\n",
    "    elif opcode == 4:\n",
    "        bin_1 = bin(B)[2:]\n",
    "        bin_2 = bin(C)[2:]\n",
    "        bin_1 = '0'*(len(bin_2)-len(bin_1)) + bin_1\n",
    "        bin_2 = '0'*(len(bin_1)-len(bin_2)) + bin_2\n",
    "        bin_res = ''\n",
    "        for i in range(len(bin_1)):\n",
    "            if bin_1[i] == bin_2[i]:\n",
    "                bin_res += '0'\n",
    "            else:\n",
    "                bin_res += '1'\n",
    "        B = int(bin_res, 2)\n",
    "    elif opcode == 5:\n",
    "        output = str(combo(operand, A, B, C) % 8)\n",
    "    elif opcode == 6:\n",
    "        B = A // (2**combo(operand, A, B, C))\n",
    "    elif opcode == 7:\n",
    "        C = A // (2**combo(operand, A, B, C))\n",
    "\n",
    "    return A, B, C, jump, output"
   ]
  },
  {
   "cell_type": "markdown",
   "metadata": {},
   "source": [
    "# Example"
   ]
  },
  {
   "cell_type": "code",
   "execution_count": 34,
   "metadata": {},
   "outputs": [
    {
     "name": "stdout",
     "output_type": "stream",
     "text": [
      "729 0 0 [0, 1, 5, 4, 3, 0]\n"
     ]
    }
   ],
   "source": [
    "A, B, C, program = read_file('example_day17.txt')\n",
    "print(A, B, C, program)"
   ]
  },
  {
   "cell_type": "code",
   "execution_count": 35,
   "metadata": {},
   "outputs": [
    {
     "name": "stdout",
     "output_type": "stream",
     "text": [
      "4,6,3,5,6,3,5,2,1,0\n"
     ]
    }
   ],
   "source": [
    "i = 0\n",
    "out = ''\n",
    "while i < len(program):\n",
    "    opcode = program[i]\n",
    "    operand = program[i+1]\n",
    "\n",
    "    A, B, C, jump, output = instructions(A, B, C, opcode, operand)\n",
    "\n",
    "    if jump != -1:\n",
    "        i = jump\n",
    "    else:\n",
    "        i += 2\n",
    "\n",
    "    if output:\n",
    "        if not out:\n",
    "            out = output\n",
    "        else:\n",
    "            out = out + ','+ output\n",
    "\n",
    "\n",
    "print(out)"
   ]
  },
  {
   "cell_type": "code",
   "execution_count": 36,
   "metadata": {},
   "outputs": [
    {
     "name": "stdout",
     "output_type": "stream",
     "text": [
      "0,0,0,4,6,3,5,2,5,2,1,4,6,7,3,1,0\n"
     ]
    }
   ],
   "source": [
    "i = 0\n",
    "out = ''\n",
    "A = 117440\n",
    "B = 0\n",
    "C = 0\n",
    "while i < len(program):\n",
    "    opcode = program[i]\n",
    "    operand = program[i+1]\n",
    "\n",
    "    A, B, C, jump, output = instructions(A, B, C, opcode, operand)\n",
    "\n",
    "    if jump != -1:\n",
    "        i = jump\n",
    "    else:\n",
    "        i += 2\n",
    "\n",
    "    if output:\n",
    "        if not out:\n",
    "            out = output\n",
    "        else:\n",
    "            out = out + ','+ output\n",
    "\n",
    "\n",
    "print(out)"
   ]
  },
  {
   "cell_type": "markdown",
   "metadata": {},
   "source": [
    "# Part 1"
   ]
  },
  {
   "cell_type": "code",
   "execution_count": 37,
   "metadata": {},
   "outputs": [
    {
     "name": "stdout",
     "output_type": "stream",
     "text": [
      "52042868 0 0 [2, 4, 1, 7, 7, 5, 0, 3, 4, 4, 1, 7, 5, 5, 3, 0]\n"
     ]
    }
   ],
   "source": [
    "A, B, C, program = read_file('data_day17.txt')\n",
    "print(A, B, C, program)"
   ]
  },
  {
   "cell_type": "code",
   "execution_count": 38,
   "metadata": {},
   "outputs": [
    {
     "name": "stdout",
     "output_type": "stream",
     "text": [
      "2,1,0,1,7,2,5,0,3\n"
     ]
    }
   ],
   "source": [
    "i = 0\n",
    "out = ''\n",
    "while i < len(program):\n",
    "    opcode = program[i]\n",
    "    operand = program[i+1]\n",
    "\n",
    "    A, B, C, jump, output = instructions(A, B, C, opcode, operand)\n",
    "\n",
    "    if jump != -1:\n",
    "        i = jump\n",
    "    else:\n",
    "        i += 2\n",
    "\n",
    "    if output:\n",
    "        if not out:\n",
    "            out = output\n",
    "        else:\n",
    "            out = out + ','+ output\n",
    "\n",
    "\n",
    "print(out)"
   ]
  },
  {
   "cell_type": "code",
   "execution_count": 39,
   "metadata": {},
   "outputs": [
    {
     "name": "stdout",
     "output_type": "stream",
     "text": [
      "2,1,0,1,7,2,5,0,3\n"
     ]
    }
   ],
   "source": [
    "A, B, C, program = read_file('data_day17.txt')\n",
    "i = 0\n",
    "out = ''\n",
    "while i < len(program):\n",
    "    opcode = program[i]\n",
    "    operand = program[i+1]\n",
    "\n",
    "    if A == 117440:\n",
    "        break\n",
    "\n",
    "\n",
    "    A, B, C, jump, output = instructions(A, B, C, opcode, operand)\n",
    "\n",
    "    if jump != -1:\n",
    "        i = jump\n",
    "    else:\n",
    "        i += 2\n",
    "\n",
    "    if output:\n",
    "        if not out:\n",
    "            out = output\n",
    "        else:\n",
    "            out = out + ','+ output\n",
    "\n",
    "\n",
    "print(out)"
   ]
  }
 ],
 "metadata": {
  "kernelspec": {
   "display_name": "base",
   "language": "python",
   "name": "python3"
  },
  "language_info": {
   "codemirror_mode": {
    "name": "ipython",
    "version": 3
   },
   "file_extension": ".py",
   "mimetype": "text/x-python",
   "name": "python",
   "nbconvert_exporter": "python",
   "pygments_lexer": "ipython3",
   "version": "3.12.4"
  }
 },
 "nbformat": 4,
 "nbformat_minor": 2
}
