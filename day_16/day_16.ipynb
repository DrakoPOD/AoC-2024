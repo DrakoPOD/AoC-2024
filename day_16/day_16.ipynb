{
 "cells": [
  {
   "cell_type": "code",
   "execution_count": 24,
   "metadata": {},
   "outputs": [],
   "source": [
    "class Node:\n",
    "    def __init__(self, x,y, zone, end):\n",
    "        self.x = x\n",
    "        self.y = y\n",
    "        self.zone = zone\n",
    "        self.parent = None\n",
    "        self.g = 0\n",
    "        self.h = 0\n",
    "        self.f = 0\n",
    "        self.end = end\n",
    "\n",
    "    def __repr__(self):\n",
    "        return \"E\" if self.end else \".\""
   ]
  },
  {
   "cell_type": "code",
   "execution_count": 25,
   "metadata": {},
   "outputs": [],
   "source": [
    "class Wall:\n",
    "    def __init__(self, x, y):\n",
    "        self.x = x\n",
    "        self.y = y\n",
    "\n",
    "    def __repr__(self):\n",
    "        return \"#\"\n",
    "\n",
    "class Reindeer:\n",
    "    def __init__(self, x, y):\n",
    "        self.x = x\n",
    "        self.y = y\n",
    "        self.facing = \">\"\n",
    "\n",
    "    def __repr__(self):\n",
    "        return \"S\""
   ]
  },
  {
   "cell_type": "code",
   "execution_count": 26,
   "metadata": {},
   "outputs": [],
   "source": [
    "def open_file(file):\n",
    "    with open(file) as f:\n",
    "        zone = []\n",
    "        for y,line in enumerate(f.readlines()):\n",
    "            zone.append([])\n",
    "            for x,block in enumerate(line):\n",
    "                if block == \".\":\n",
    "                    zone[y].append(Node(x,y, zone, False))\n",
    "                elif block == \"#\":\n",
    "                    zone[y].append(Wall(x,y))\n",
    "                elif block == \"S\":\n",
    "                    zone[y].append(Reindeer(x,y))\n",
    "                elif block == \"E\":\n",
    "                    zone[y].append(Node(x,y, zone, True))\n",
    "    return zone"
   ]
  },
  {
   "cell_type": "code",
   "execution_count": null,
   "metadata": {},
   "outputs": [],
   "source": [
    "def dijkstra(zone, start, end):\n",
    "    open_list = []\n",
    "    closed_list = []\n",
    "    open_list.append(start)\n",
    "\n",
    "    "
   ]
  },
  {
   "cell_type": "markdown",
   "metadata": {},
   "source": [
    "# Example"
   ]
  },
  {
   "cell_type": "code",
   "execution_count": 27,
   "metadata": {},
   "outputs": [
    {
     "name": "stdout",
     "output_type": "stream",
     "text": [
      "###############\n",
      "#.......#....E#\n",
      "#.#.###.#.###.#\n",
      "#.....#.#...#.#\n",
      "#.###.#####.#.#\n",
      "#.#.#.......#.#\n",
      "#.#.#####.###.#\n",
      "#...........#.#\n",
      "###.#.#####.#.#\n",
      "#...#.....#.#.#\n",
      "#.#.#.###.#.#.#\n",
      "#.....#...#.#.#\n",
      "#.###.#.#.#.#.#\n",
      "#S..#.....#...#\n",
      "###############\n"
     ]
    }
   ],
   "source": [
    "zone = open_file(\"example_day16.txt\")\n",
    "for row in zone:\n",
    "    for block in row:\n",
    "        print(block, end=\"\")\n",
    "    print()"
   ]
  }
 ],
 "metadata": {
  "kernelspec": {
   "display_name": "base",
   "language": "python",
   "name": "python3"
  },
  "language_info": {
   "codemirror_mode": {
    "name": "ipython",
    "version": 3
   },
   "file_extension": ".py",
   "mimetype": "text/x-python",
   "name": "python",
   "nbconvert_exporter": "python",
   "pygments_lexer": "ipython3",
   "version": "3.12.4"
  }
 },
 "nbformat": 4,
 "nbformat_minor": 2
}
