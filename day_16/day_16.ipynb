{
 "cells": [
  {
   "cell_type": "code",
   "execution_count": null,
   "metadata": {},
   "outputs": [],
   "source": [
    "class Node:\n",
    "    def __init__(self, x,y, zone):\n",
    "        self.x = x\n",
    "        self.y = y\n",
    "        self.zone = zone\n",
    "        self.parent = None\n",
    "        self.g = 0\n",
    "        self.h = 0\n",
    "        self.f = 0"
   ]
  }
 ],
 "metadata": {
  "kernelspec": {
   "display_name": "base",
   "language": "python",
   "name": "python3"
  },
  "language_info": {
   "name": "python",
   "version": "3.11.10"
  }
 },
 "nbformat": 4,
 "nbformat_minor": 2
}
