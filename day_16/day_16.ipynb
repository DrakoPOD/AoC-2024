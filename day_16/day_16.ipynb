{
 "cells": [
  {
   "cell_type": "code",
   "execution_count": 61,
   "metadata": {},
   "outputs": [],
   "source": [
    "class Node:\n",
    "    def __init__(self, x,y, zone, end):\n",
    "        self.x = x\n",
    "        self.y = y\n",
    "        self.zone = zone\n",
    "        self.parent = None\n",
    "        self.g = 0\n",
    "        self.h = 0\n",
    "        self.f = 0\n",
    "        self.end = end\n",
    "        self.start = False\n",
    "        self.visited = False\n",
    "        self.path = False\n",
    "        self.cost = float('inf')\n",
    "        self.prev = None\n",
    "        self.next = None\n",
    "        self.direction = None\n",
    "        self.real_cost = float('inf')\n",
    "\n",
    "    def __repr__(self):\n",
    "        if self.end:\n",
    "            return 'E'\n",
    "        if self.start:\n",
    "            return 'S'\n",
    "        if self.path:\n",
    "            return self.direction\n",
    "        return '.'"
   ]
  },
  {
   "cell_type": "code",
   "execution_count": 62,
   "metadata": {},
   "outputs": [],
   "source": [
    "class Wall:\n",
    "    def __init__(self, x, y):\n",
    "        self.x = x\n",
    "        self.y = y\n",
    "\n",
    "    def __repr__(self):\n",
    "        return \"#\"\n",
    "\n",
    "class Reindeer:\n",
    "    def __init__(self, x, y):\n",
    "        self.x = x\n",
    "        self.y = y\n",
    "        self.facing = \">\"\n",
    "\n",
    "    def __repr__(self):\n",
    "        return \"S\""
   ]
  },
  {
   "cell_type": "code",
   "execution_count": 63,
   "metadata": {},
   "outputs": [],
   "source": [
    "def open_file(file):\n",
    "    zone = []\n",
    "    start = None\n",
    "    end = None\n",
    "    with open(file) as f:\n",
    "        for y,line in enumerate(f.readlines()):\n",
    "            zone.append([])\n",
    "            for x,block in enumerate(line):\n",
    "                if block == \".\":\n",
    "                    zone[y].append(Node(x,y, zone, False))\n",
    "                elif block == \"#\":\n",
    "                    zone[y].append(Wall(x,y))\n",
    "                elif block == \"S\":\n",
    "                    node = Node(x,y, zone, False)\n",
    "                    zone[y].append(node)\n",
    "                    start = node\n",
    "                elif block == \"E\":\n",
    "                    node = Node(x,y, zone, True)\n",
    "                    zone[y].append(node)\n",
    "                    end = node\n",
    "    return zone, start, end"
   ]
  },
  {
   "cell_type": "code",
   "execution_count": 64,
   "metadata": {},
   "outputs": [],
   "source": [
    "def dijkstra(zone, start, end):\n",
    "    open_list = []\n",
    "    closed_list = []\n",
    "    open_list.append(start)\n",
    "    direction = \">\"\n",
    "    start.cost = 0\n",
    "    start.direction = \">\"\n",
    "    start.start = True\n",
    "\n",
    "    while open_list:\n",
    "        current = open_list[0]\n",
    "        for node in open_list:\n",
    "            if node.cost < current.cost:\n",
    "                current = node\n",
    "\n",
    "        current.visited = True\n",
    "        open_list.remove(current)\n",
    "        closed_list.append(current)\n",
    "\n",
    "        if current == end:\n",
    "            path = []\n",
    "            while current.prev:\n",
    "                path.append(current)\n",
    "                current = current.prev\n",
    "                current.path = True\n",
    "            return path\n",
    "\n",
    "        for x,y,d in [(0,1,\"v\"), (0,-1,\"^\"), (1,0,\">\"), (-1,0,\"<\")]:\n",
    "            node = zone[current.y + y][current.x + x]\n",
    "            \n",
    "            if isinstance(node, Wall):\n",
    "                continue\n",
    "\n",
    "            additional_cost = 0 if d == current.direction else 1000\n",
    "\n",
    "            if node in closed_list:\n",
    "                continue\n",
    "            if node in open_list:\n",
    "                if current.cost + 1 + additional_cost < node.cost:\n",
    "                    node.cost = current.cost + 1 + additional_cost\n",
    "                    node.prev = current\n",
    "                    node.real_cost = 1 + additional_cost\n",
    "            else:\n",
    "                node.cost = current.cost + 1 + additional_cost\n",
    "                node.prev = current\n",
    "                open_list.append(node)\n",
    "                node.real_cost = 1 + additional_cost\n",
    "            node.direction = d\n",
    "\n",
    "    return None        "
   ]
  },
  {
   "cell_type": "markdown",
   "metadata": {},
   "source": [
    "# Example"
   ]
  },
  {
   "cell_type": "code",
   "execution_count": 65,
   "metadata": {},
   "outputs": [
    {
     "name": "stdout",
     "output_type": "stream",
     "text": [
      "#################\n",
      "#...#...#...#..E#\n",
      "#.#.#.#.#.#.#.#.#\n",
      "#.#.#.#...#...#.#\n",
      "#.#.#.#.###.#.#.#\n",
      "#...#.#.#.....#.#\n",
      "#.#.#.#.#.#####.#\n",
      "#.#...#.#.#.....#\n",
      "#.#.#####.#.###.#\n",
      "#.#.#.......#...#\n",
      "#.#.###.#####.###\n",
      "#.#.#...#.....#.#\n",
      "#.#.#.#####.###.#\n",
      "#.#.#.........#.#\n",
      "#.#.#.#########.#\n",
      "#.#.............#\n",
      "#################\n"
     ]
    }
   ],
   "source": [
    "zone, start, end = open_file(\"example_day16.txt\")\n",
    "for row in zone:\n",
    "    for block in row:\n",
    "        print(block, end=\"\")\n",
    "    print()"
   ]
  },
  {
   "cell_type": "code",
   "execution_count": 66,
   "metadata": {},
   "outputs": [
    {
     "data": {
      "text/plain": [
       "11048"
      ]
     },
     "execution_count": 66,
     "metadata": {},
     "output_type": "execute_result"
    }
   ],
   "source": [
    "path = dijkstra(zone,start,end)\n",
    "sum([node.real_cost for node in path])"
   ]
  },
  {
   "cell_type": "code",
   "execution_count": 67,
   "metadata": {},
   "outputs": [
    {
     "name": "stdout",
     "output_type": "stream",
     "text": [
      "#################\n",
      "#...#...#...#..E#\n",
      "#.#.#.#.#.#.#.#^#\n",
      "#.#.#.#...#...#^#\n",
      "#.#.#.#.###.#.#^#\n",
      "#^>>#.#.#.....#^#\n",
      "#^#v#.#.#.#####^#\n",
      "#^#v..#.#.#^>>>>#\n",
      "#^#v#####.#^###.#\n",
      "#^#v#..^>>>>#...#\n",
      "#^#v###^#####.###\n",
      "#^#v#^>>#.....#.#\n",
      "#^#v#^#####.###.#\n",
      "#^#v#^........#.#\n",
      "#^#v#^#########.#\n",
      "#S#v>>..........#\n",
      "#################\n"
     ]
    }
   ],
   "source": [
    "for row in zone:\n",
    "    for block in row:\n",
    "        print(block, end=\"\")\n",
    "    print()"
   ]
  },
  {
   "cell_type": "markdown",
   "metadata": {},
   "source": [
    "# Part 1"
   ]
  },
  {
   "cell_type": "code",
   "execution_count": 68,
   "metadata": {},
   "outputs": [
    {
     "data": {
      "text/plain": [
       "114476"
      ]
     },
     "execution_count": 68,
     "metadata": {},
     "output_type": "execute_result"
    }
   ],
   "source": [
    "zone, start, end = open_file(\"data_day16.txt\")\n",
    "path = dijkstra(zone,start,end)\n",
    "sum([node.real_cost for node in path])"
   ]
  }
 ],
 "metadata": {
  "kernelspec": {
   "display_name": "base",
   "language": "python",
   "name": "python3"
  },
  "language_info": {
   "codemirror_mode": {
    "name": "ipython",
    "version": 3
   },
   "file_extension": ".py",
   "mimetype": "text/x-python",
   "name": "python",
   "nbconvert_exporter": "python",
   "pygments_lexer": "ipython3",
   "version": "3.11.10"
  }
 },
 "nbformat": 4,
 "nbformat_minor": 2
}
