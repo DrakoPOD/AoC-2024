{
 "cells": [
  {
   "cell_type": "code",
   "execution_count": 30,
   "metadata": {},
   "outputs": [],
   "source": [
    "from functools import cache"
   ]
  },
  {
   "cell_type": "code",
   "execution_count": 31,
   "metadata": {},
   "outputs": [],
   "source": [
    "@cache\n",
    "def blink(stone, i, max_i):\n",
    "    count = 0\n",
    "    if i == max_i:\n",
    "        return 1\n",
    "    i += 1\n",
    "    \n",
    "    if stone == 0:\n",
    "        count = blink(1, i, max_i)\n",
    "    elif len(str(stone)) % 2 == 0:\n",
    "        half = len(str(stone)) // 2\n",
    "        stone_1 = int(str(stone)[:half])\n",
    "        stone_2 = int(str(stone)[half:])\n",
    "        count = blink(stone_1, i, max_i) + blink(stone_2, i, max_i)\n",
    "    else:\n",
    "        count = blink(stone * 2024, i, max_i)\n",
    "    return count"
   ]
  },
  {
   "cell_type": "code",
   "execution_count": 32,
   "metadata": {},
   "outputs": [
    {
     "data": {
      "text/plain": [
       "[125, 17]"
      ]
     },
     "execution_count": 32,
     "metadata": {},
     "output_type": "execute_result"
    }
   ],
   "source": [
    "stones = []\n",
    "\n",
    "with open('./example_day11.txt') as f:\n",
    "    for line in f:\n",
    "        stones = (list(map(int,line.strip().split(' '))))\n",
    "\n",
    "stones"
   ]
  },
  {
   "cell_type": "code",
   "execution_count": 33,
   "metadata": {},
   "outputs": [
    {
     "data": {
      "text/plain": [
       "55312"
      ]
     },
     "execution_count": 33,
     "metadata": {},
     "output_type": "execute_result"
    }
   ],
   "source": [
    "count = 0\n",
    "for stone in stones:\n",
    "    count += blink(stone, 0, 25)\n",
    "\n",
    "count"
   ]
  },
  {
   "cell_type": "code",
   "execution_count": 34,
   "metadata": {},
   "outputs": [
    {
     "data": {
      "text/plain": [
       "65601038650482"
      ]
     },
     "execution_count": 34,
     "metadata": {},
     "output_type": "execute_result"
    }
   ],
   "source": [
    "count = 0\n",
    "for stone in stones:\n",
    "    count += blink(stone, 0, 75)\n",
    "\n",
    "count"
   ]
  },
  {
   "cell_type": "markdown",
   "metadata": {},
   "source": [
    "# Part 1"
   ]
  },
  {
   "cell_type": "code",
   "execution_count": 35,
   "metadata": {},
   "outputs": [
    {
     "data": {
      "text/plain": [
       "[0, 27, 5409930, 828979, 4471, 3, 68524, 170]"
      ]
     },
     "execution_count": 35,
     "metadata": {},
     "output_type": "execute_result"
    }
   ],
   "source": [
    "stones = []\n",
    "\n",
    "with open('./data_day11.txt') as f:\n",
    "    for line in f:\n",
    "        stones = (list(map(int,line.strip().split(' '))))\n",
    "\n",
    "stones"
   ]
  },
  {
   "cell_type": "code",
   "execution_count": 36,
   "metadata": {},
   "outputs": [
    {
     "data": {
      "text/plain": [
       "194482"
      ]
     },
     "execution_count": 36,
     "metadata": {},
     "output_type": "execute_result"
    }
   ],
   "source": [
    "count = 0\n",
    "for stone in stones:\n",
    "    count += blink(stone, 0, 25)\n",
    "\n",
    "count"
   ]
  },
  {
   "cell_type": "code",
   "execution_count": 37,
   "metadata": {},
   "outputs": [
    {
     "data": {
      "text/plain": [
       "232454623677743"
      ]
     },
     "execution_count": 37,
     "metadata": {},
     "output_type": "execute_result"
    }
   ],
   "source": [
    "count = 0\n",
    "for stone in stones:\n",
    "    count += blink(stone, 0, 75)\n",
    "\n",
    "count"
   ]
  }
 ],
 "metadata": {
  "kernelspec": {
   "display_name": "base",
   "language": "python",
   "name": "python3"
  },
  "language_info": {
   "codemirror_mode": {
    "name": "ipython",
    "version": 3
   },
   "file_extension": ".py",
   "mimetype": "text/x-python",
   "name": "python",
   "nbconvert_exporter": "python",
   "pygments_lexer": "ipython3",
   "version": "3.12.4"
  }
 },
 "nbformat": 4,
 "nbformat_minor": 2
}
