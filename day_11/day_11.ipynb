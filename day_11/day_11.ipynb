{
 "cells": [
  {
   "cell_type": "code",
   "execution_count": 15,
   "metadata": {},
   "outputs": [],
   "source": [
    "from functools import cache"
   ]
  },
  {
   "cell_type": "code",
   "execution_count": 16,
   "metadata": {},
   "outputs": [],
   "source": [
    "@cache\n",
    "def blink(stones):\n",
    "    new_stones = []\n",
    "    for stone in stones:\n",
    "        if stone == 0:\n",
    "            new_stones.append(1)\n",
    "        elif len(str(stone)) % 2 == 0:\n",
    "            stone_1 = int(str(stone)[:len(str(stone))//2])\n",
    "            stone_2 = int(str(stone)[len(str(stone))//2:])\n",
    "            new_stones.append(stone_1)\n",
    "            new_stones.append(stone_2)\n",
    "        else:\n",
    "            new_stones.append(stone * 2024)\n",
    "    return new_stones"
   ]
  },
  {
   "cell_type": "code",
   "execution_count": 17,
   "metadata": {},
   "outputs": [
    {
     "data": {
      "text/plain": [
       "[125, 17]"
      ]
     },
     "execution_count": 17,
     "metadata": {},
     "output_type": "execute_result"
    }
   ],
   "source": [
    "stones = []\n",
    "\n",
    "with open('./example_day11.txt') as f:\n",
    "    for line in f:\n",
    "        stones = (list(map(int,line.strip().split(' '))))\n",
    "\n",
    "stones"
   ]
  },
  {
   "cell_type": "code",
   "execution_count": 18,
   "metadata": {},
   "outputs": [
    {
     "data": {
      "text/plain": [
       "55312"
      ]
     },
     "execution_count": 18,
     "metadata": {},
     "output_type": "execute_result"
    }
   ],
   "source": [
    "for _ in range(25):\n",
    "    new_stones = []\n",
    "    for stone in stones:\n",
    "        if stone == 0:\n",
    "            new_stones.append(1)\n",
    "        elif len(str(stone)) % 2 == 0:\n",
    "            half = len(str(stone))//2\n",
    "            stone_1 = int(str(stone)[:half])\n",
    "            stone_2 = int(str(stone)[half:])\n",
    "            new_stones.extend([stone_1, stone_2])\n",
    "        else:\n",
    "            new_stones.append(stone * 2024)\n",
    "\n",
    "    stones = new_stones\n",
    "\n",
    "len(stones)"
   ]
  },
  {
   "cell_type": "markdown",
   "metadata": {},
   "source": [
    "# Part 1"
   ]
  },
  {
   "cell_type": "code",
   "execution_count": 19,
   "metadata": {},
   "outputs": [
    {
     "data": {
      "text/plain": [
       "[0, 27, 5409930, 828979, 4471, 3, 68524, 170]"
      ]
     },
     "execution_count": 19,
     "metadata": {},
     "output_type": "execute_result"
    }
   ],
   "source": [
    "stones = []\n",
    "\n",
    "with open('./data_day11.txt') as f:\n",
    "    for line in f:\n",
    "        stones = (list(map(int,line.strip().split(' '))))\n",
    "\n",
    "stones2 = stones.copy()\n",
    "stones"
   ]
  },
  {
   "cell_type": "code",
   "execution_count": 20,
   "metadata": {},
   "outputs": [
    {
     "data": {
      "text/plain": [
       "194482"
      ]
     },
     "execution_count": 20,
     "metadata": {},
     "output_type": "execute_result"
    }
   ],
   "source": [
    "for _ in range(25):\n",
    "    stones = blink(tuple(stones))\n",
    "\n",
    "len(stones)"
   ]
  },
  {
   "cell_type": "code",
   "execution_count": null,
   "metadata": {},
   "outputs": [],
   "source": [
    "stones = stones2\n",
    "for _ in range(75):\n",
    "    stones = blink(tuple(stones))\n",
    "\n",
    "len(stones)"
   ]
  }
 ],
 "metadata": {
  "kernelspec": {
   "display_name": "base",
   "language": "python",
   "name": "python3"
  },
  "language_info": {
   "codemirror_mode": {
    "name": "ipython",
    "version": 3
   },
   "file_extension": ".py",
   "mimetype": "text/x-python",
   "name": "python",
   "nbconvert_exporter": "python",
   "pygments_lexer": "ipython3",
   "version": "3.11.10"
  }
 },
 "nbformat": 4,
 "nbformat_minor": 2
}
