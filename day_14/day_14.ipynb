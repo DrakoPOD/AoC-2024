{
 "cells": [
  {
   "cell_type": "code",
   "execution_count": 191,
   "metadata": {},
   "outputs": [],
   "source": [
    "import re\n",
    "import numpy as np"
   ]
  },
  {
   "cell_type": "code",
   "execution_count": 192,
   "metadata": {},
   "outputs": [],
   "source": [
    "class Robot:\n",
    "    def __init__(self,x,y,vx, vy, max_x, max_y):\n",
    "        self.x = x\n",
    "        self.y = y\n",
    "        self.vx = vx\n",
    "        self.vy = vy\n",
    "        self.max_x = max_x\n",
    "        self.max_y = max_y\n",
    "\n",
    "    def move(self):\n",
    "        self.x += self.vx\n",
    "        self.y += self.vy\n",
    "\n",
    "        if self.x < 0:\n",
    "            self.x = self.max_x + self.x\n",
    "\n",
    "        if self.y < 0:\n",
    "            self.y = self.max_y + self.y\n",
    "\n",
    "        if self.x >= self.max_x:\n",
    "            self.x = self.x - self.max_x\n",
    "\n",
    "        if self.y >= self.max_y:\n",
    "            self.y = self.y - self.max_y\n",
    "\n",
    "    @property\n",
    "    def quadrant(self):\n",
    "        x = self.max_x // 2 \n",
    "        y = self.max_y // 2 \n",
    "\n",
    "        if self.x < x and self.y < y:\n",
    "            return 1\n",
    "        elif self.x < x and self.y > y:\n",
    "            return 2\n",
    "        elif self.x > x and self.y < y:\n",
    "            return 3\n",
    "        elif self.x > x and self.y > y:\n",
    "            return 4\n",
    "        else:\n",
    "            return 0\n",
    "\n",
    "    def __repr__(self):\n",
    "        return f\"({self.x},{self.y})\""
   ]
  },
  {
   "cell_type": "markdown",
   "metadata": {},
   "source": [
    "# Example"
   ]
  },
  {
   "cell_type": "code",
   "execution_count": 193,
   "metadata": {},
   "outputs": [
    {
     "data": {
      "text/plain": [
       "[(0,4),\n",
       " (6,3),\n",
       " (10,3),\n",
       " (2,0),\n",
       " (0,0),\n",
       " (3,0),\n",
       " (7,6),\n",
       " (3,0),\n",
       " (9,3),\n",
       " (7,3),\n",
       " (2,4),\n",
       " (9,5)]"
      ]
     },
     "execution_count": 193,
     "metadata": {},
     "output_type": "execute_result"
    }
   ],
   "source": [
    "robots = []\n",
    "\n",
    "with open('example_day14.txt') as f:\n",
    "    for line in f:\n",
    "        x,y,vx,vy = map(int,re.findall(r'p=(\\d+),(\\d+) v=(-?\\d+),(-?\\d+)',line)[0])\n",
    "        robots.append(Robot(x,y,vx,vy,11,7))\n",
    "\n",
    "robots"
   ]
  },
  {
   "cell_type": "code",
   "execution_count": 194,
   "metadata": {},
   "outputs": [
    {
     "name": "stdout",
     "output_type": "stream",
     "text": [
      "12\n"
     ]
    }
   ],
   "source": [
    "for i in range(100):\n",
    "    for r in robots:\n",
    "        r.move()\n",
    "\n",
    "q1 = 0\n",
    "q2 = 0\n",
    "q3 = 0\n",
    "q4 = 0\n",
    "for r in robots:\n",
    "    if r.quadrant == 1:\n",
    "        q1 += 1\n",
    "    elif r.quadrant == 2:\n",
    "        q2 += 1\n",
    "    elif r.quadrant == 3:\n",
    "        q3 += 1\n",
    "    elif r.quadrant == 4:\n",
    "        q4 += 1\n",
    "\n",
    "print(q1 * q2 * q3 * q4)"
   ]
  },
  {
   "cell_type": "markdown",
   "metadata": {},
   "source": [
    "# Part 1"
   ]
  },
  {
   "cell_type": "code",
   "execution_count": 195,
   "metadata": {},
   "outputs": [],
   "source": [
    "robots = []\n",
    "\n",
    "with open('data_day14.txt') as f:\n",
    "    for line in f:\n",
    "        x,y,vx,vy = map(int,re.findall(r'p=(\\d+),(\\d+) v=(-?\\d+),(-?\\d+)',line)[0])\n",
    "        robots.append(Robot(x,y,vx,vy,101,103))"
   ]
  },
  {
   "cell_type": "code",
   "execution_count": 196,
   "metadata": {},
   "outputs": [
    {
     "name": "stdout",
     "output_type": "stream",
     "text": [
      "226236192\n"
     ]
    }
   ],
   "source": [
    "for i in range(100):\n",
    "    for r in robots:\n",
    "        r.move()\n",
    "\n",
    "q1 = 0\n",
    "q2 = 0\n",
    "q3 = 0\n",
    "q4 = 0\n",
    "for r in robots:\n",
    "    if r.quadrant == 1:\n",
    "        q1 += 1\n",
    "    elif r.quadrant == 2:\n",
    "        q2 += 1\n",
    "    elif r.quadrant == 3:\n",
    "        q3 += 1\n",
    "    elif r.quadrant == 4:\n",
    "        q4 += 1\n",
    "\n",
    "print(q1 * q2 * q3 * q4)"
   ]
  },
  {
   "cell_type": "markdown",
   "metadata": {},
   "source": [
    "# Part 2"
   ]
  },
  {
   "cell_type": "code",
   "execution_count": 197,
   "metadata": {},
   "outputs": [],
   "source": [
    "robots = []\n",
    "\n",
    "with open('data_day14.txt') as f:\n",
    "    for line in f:\n",
    "        x,y,vx,vy = map(int,re.findall(r'p=(\\d+),(\\d+) v=(-?\\d+),(-?\\d+)',line)[0])\n",
    "        robots.append(Robot(x,y,vx,vy,101,103))"
   ]
  },
  {
   "cell_type": "code",
   "execution_count": 198,
   "metadata": {},
   "outputs": [
    {
     "data": {
      "text/plain": [
       "8168"
      ]
     },
     "execution_count": 198,
     "metadata": {},
     "output_type": "execute_result"
    }
   ],
   "source": [
    "min_var = float('inf')\n",
    "min_t = 0\n",
    "\n",
    "for t in range(10000):\n",
    "    x = [r.x for r in robots]\n",
    "    y = [r.y for r in robots]\n",
    "\n",
    "    var = np.var(x) + np.var(y)\n",
    "\n",
    "    if var < min_var:\n",
    "        min_var = var\n",
    "        min_t = t\n",
    "\n",
    "    for r in robots:\n",
    "        r.move()\n",
    "        \n",
    "min_t"
   ]
  }
 ],
 "metadata": {
  "kernelspec": {
   "display_name": "base",
   "language": "python",
   "name": "python3"
  },
  "language_info": {
   "codemirror_mode": {
    "name": "ipython",
    "version": 3
   },
   "file_extension": ".py",
   "mimetype": "text/x-python",
   "name": "python",
   "nbconvert_exporter": "python",
   "pygments_lexer": "ipython3",
   "version": "3.12.4"
  }
 },
 "nbformat": 4,
 "nbformat_minor": 2
}
